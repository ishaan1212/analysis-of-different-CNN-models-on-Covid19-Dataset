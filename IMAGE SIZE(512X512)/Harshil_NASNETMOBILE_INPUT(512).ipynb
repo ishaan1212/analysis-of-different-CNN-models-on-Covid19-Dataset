{
  "cells": [
    {
      "cell_type": "code",
      "execution_count": 7,
      "metadata": {
        "id": "FMmdf2fG72EJ"
      },
      "outputs": [],
      "source": [
        "from keras.models import Model\n",
        "from keras.layers import Input\n",
        "from keras.layers import Conv2D\n",
        "from keras.layers import MaxPooling2D, AveragePooling2D\n",
        "from keras.layers.merge import concatenate\n",
        "\n",
        "from keras.preprocessing.image import ImageDataGenerator\n",
        "from keras.layers import Flatten, Dense\n",
        "from keras.layers import Activation\n",
        "from keras.layers import BatchNormalization\n",
        "from keras.callbacks import ModelCheckpoint, EarlyStopping\n",
        "\n",
        "from tensorflow import keras\n",
        "\n",
        "from keras.models import Sequential\n",
        "from keras.layers.core import Flatten, Dense, Dropout\n",
        "from keras.layers.convolutional import Convolution2D, MaxPooling2D, ZeroPadding2D\n",
        "from tensorflow.keras.optimizers import SGD\n",
        "import cv2, numpy as np"
      ]
    },
    {
      "cell_type": "code",
      "execution_count": 8,
      "metadata": {
        "colab": {
          "base_uri": "https://localhost:8080/"
        },
        "id": "Q3S18lWC72EL",
        "outputId": "e896eafb-2fb0-48fa-c03c-92ea0b2223d7"
      },
      "outputs": [
        {
          "output_type": "stream",
          "name": "stdout",
          "text": [
            "Drive already mounted at /content/drive; to attempt to forcibly remount, call drive.mount(\"/content/drive\", force_remount=True).\n"
          ]
        }
      ],
      "source": [
        "from google.colab import drive\n",
        "drive.mount('/content/drive')"
      ]
    },
    {
      "cell_type": "code",
      "execution_count": 9,
      "metadata": {
        "colab": {
          "base_uri": "https://localhost:8080/"
        },
        "id": "nU5NIX-P72EL",
        "outputId": "f15ba110-2feb-4763-fe71-a09329d25cff"
      },
      "outputs": [
        {
          "output_type": "stream",
          "name": "stdout",
          "text": [
            "Found 5171 images belonging to 3 classes.\n",
            "Found 1292 images belonging to 3 classes.\n"
          ]
        }
      ],
      "source": [
        "train_datagen_with_aug = ImageDataGenerator(rescale=1./255,\n",
        "                                   horizontal_flip=True,\n",
        "                                   shear_range=0.2,\n",
        "                                   zoom_range=[0.2,0.5],\n",
        "                                   width_shift_range = 0.3,\n",
        "                                   height_shift_range = 0.3,\n",
        "                                   validation_split=0.2)\n",
        "\n",
        "train_generator = train_datagen_with_aug.flow_from_directory(\n",
        "    r'/content/drive/My Drive/X-Ray Images Dataset for research project',\n",
        "    target_size=(512, 512),\n",
        "    batch_size=32,\n",
        "    # color_mode='grayscale',\n",
        "    class_mode='categorical',\n",
        "    subset='training'\n",
        "    ) # set as training data\n",
        "\n",
        "validation_generator = train_datagen_with_aug.flow_from_directory(\n",
        "    r'/content/drive/My Drive/X-Ray Images Dataset for research project', # same directory as training data\n",
        "    target_size=(512, 512),\n",
        "    batch_size=32,\n",
        "    # color_mode='grayscale',\n",
        "    class_mode='categorical',\n",
        "    subset='validation'\n",
        "    ) # set as validation data\n",
        "\n",
        "input_img = Input(shape=(512, 512, 3))"
      ]
    },
    {
      "cell_type": "code",
      "execution_count": 10,
      "metadata": {
        "id": "LZ2z6yt772EM"
      },
      "outputs": [],
      "source": [
        "from keras.applications import nasnet\n",
        "\n",
        "NASNET_MOBILE = Sequential()\n",
        "\n",
        "nasnetmobile_model =keras.applications.nasnet.NASNetMobile(\n",
        "    input_tensor=Input(shape=(512,512,3)), include_top=False, weights='imagenet',\n",
        "    pooling=('max'), classes=3\n",
        ")"
      ]
    },
    {
      "cell_type": "code",
      "execution_count": 11,
      "metadata": {
        "colab": {
          "base_uri": "https://localhost:8080/"
        },
        "id": "L1Z5wZW972EM",
        "outputId": "c86e7d1a-9241-4a3d-f837-b45f37f72ed6"
      },
      "outputs": [
        {
          "output_type": "stream",
          "name": "stdout",
          "text": [
            "Model: \"sequential_1\"\n",
            "_________________________________________________________________\n",
            " Layer (type)                Output Shape              Param #   \n",
            "=================================================================\n",
            " NASNet (Functional)         (None, 1056)              4269716   \n",
            "                                                                 \n",
            " flatten_1 (Flatten)         (None, 1056)              0         \n",
            "                                                                 \n",
            " dense_2 (Dense)             (None, 512)               541184    \n",
            "                                                                 \n",
            " dense_3 (Dense)             (None, 3)                 1539      \n",
            "                                                                 \n",
            "=================================================================\n",
            "Total params: 4,812,439\n",
            "Trainable params: 542,723\n",
            "Non-trainable params: 4,269,716\n",
            "_________________________________________________________________\n",
            "Epoch 1/25\n",
            "162/162 [==============================] - 1360s 8s/step - loss: 1.3022 - accuracy: 0.6297 - val_loss: 0.5324 - val_accuracy: 0.7802\n",
            "Epoch 2/25\n",
            "162/162 [==============================] - 562s 3s/step - loss: 0.6865 - accuracy: 0.7250 - val_loss: 0.5777 - val_accuracy: 0.7585\n",
            "Epoch 3/25\n",
            "162/162 [==============================] - 558s 3s/step - loss: 0.6819 - accuracy: 0.7264 - val_loss: 0.6198 - val_accuracy: 0.7531\n",
            "Epoch 4/25\n",
            "162/162 [==============================] - 541s 3s/step - loss: 0.6065 - accuracy: 0.7561 - val_loss: 0.5151 - val_accuracy: 0.7771\n",
            "Epoch 5/25\n",
            "162/162 [==============================] - 550s 3s/step - loss: 0.5915 - accuracy: 0.7621 - val_loss: 0.4937 - val_accuracy: 0.8011\n",
            "Epoch 6/25\n",
            "162/162 [==============================] - 554s 3s/step - loss: 0.6010 - accuracy: 0.7604 - val_loss: 0.5202 - val_accuracy: 0.7918\n",
            "Epoch 7/25\n",
            "162/162 [==============================] - 549s 3s/step - loss: 0.5610 - accuracy: 0.7815 - val_loss: 0.4789 - val_accuracy: 0.8050\n",
            "Epoch 8/25\n",
            "162/162 [==============================] - 543s 3s/step - loss: 0.5642 - accuracy: 0.7780 - val_loss: 0.4452 - val_accuracy: 0.8328\n",
            "Epoch 9/25\n",
            "162/162 [==============================] - 523s 3s/step - loss: 0.5532 - accuracy: 0.7842 - val_loss: 0.5109 - val_accuracy: 0.7972\n",
            "Epoch 10/25\n",
            "162/162 [==============================] - 523s 3s/step - loss: 0.5620 - accuracy: 0.7776 - val_loss: 0.6218 - val_accuracy: 0.7515\n",
            "Epoch 11/25\n",
            "162/162 [==============================] - 534s 3s/step - loss: 0.5407 - accuracy: 0.7834 - val_loss: 0.4746 - val_accuracy: 0.8142\n",
            "Epoch 12/25\n",
            "162/162 [==============================] - 526s 3s/step - loss: 0.5487 - accuracy: 0.7786 - val_loss: 0.5279 - val_accuracy: 0.7709\n",
            "Epoch 13/25\n",
            "162/162 [==============================] - 537s 3s/step - loss: 0.5425 - accuracy: 0.7900 - val_loss: 0.5010 - val_accuracy: 0.7988\n",
            "Epoch 14/25\n",
            "162/162 [==============================] - 527s 3s/step - loss: 0.5359 - accuracy: 0.7919 - val_loss: 0.4446 - val_accuracy: 0.8289\n",
            "Epoch 15/25\n",
            "162/162 [==============================] - 526s 3s/step - loss: 0.5131 - accuracy: 0.8033 - val_loss: 0.4826 - val_accuracy: 0.8111\n",
            "Epoch 16/25\n",
            "162/162 [==============================] - 541s 3s/step - loss: 0.5153 - accuracy: 0.7981 - val_loss: 0.4223 - val_accuracy: 0.8413\n",
            "Epoch 17/25\n",
            "162/162 [==============================] - 536s 3s/step - loss: 0.5090 - accuracy: 0.7977 - val_loss: 0.4171 - val_accuracy: 0.8305\n",
            "Epoch 18/25\n",
            "162/162 [==============================] - 537s 3s/step - loss: 0.5206 - accuracy: 0.8010 - val_loss: 0.4314 - val_accuracy: 0.8259\n",
            "Epoch 19/25\n",
            "162/162 [==============================] - 539s 3s/step - loss: 0.5165 - accuracy: 0.8051 - val_loss: 0.4802 - val_accuracy: 0.8119\n",
            "Epoch 20/25\n",
            "162/162 [==============================] - 534s 3s/step - loss: 0.5109 - accuracy: 0.7991 - val_loss: 0.4239 - val_accuracy: 0.8351\n",
            "Epoch 21/25\n",
            "162/162 [==============================] - 531s 3s/step - loss: 0.5000 - accuracy: 0.8126 - val_loss: 0.4695 - val_accuracy: 0.7949\n",
            "Epoch 22/25\n",
            "162/162 [==============================] - 533s 3s/step - loss: 0.5032 - accuracy: 0.8043 - val_loss: 0.4414 - val_accuracy: 0.8259\n",
            "Epoch 23/25\n",
            "162/162 [==============================] - 539s 3s/step - loss: 0.5093 - accuracy: 0.8056 - val_loss: 0.4352 - val_accuracy: 0.8467\n",
            "Epoch 24/25\n",
            "162/162 [==============================] - 546s 3s/step - loss: 0.5109 - accuracy: 0.8016 - val_loss: 0.4800 - val_accuracy: 0.8050\n",
            "Epoch 25/25\n",
            "162/162 [==============================] - 551s 3s/step - loss: 0.5152 - accuracy: 0.8026 - val_loss: 0.4438 - val_accuracy: 0.8158\n"
          ]
        },
        {
          "output_type": "execute_result",
          "data": {
            "text/plain": [
              "<keras.callbacks.History at 0x7f5eb8b52210>"
            ]
          },
          "metadata": {},
          "execution_count": 11
        }
      ],
      "source": [
        "for layer in nasnetmobile_model.layers:\n",
        "    layer.trainable = False\n",
        "    \n",
        "NASNET_MOBILE.add(nasnetmobile_model)\n",
        "NASNET_MOBILE.add(Flatten())\n",
        "NASNET_MOBILE.add(Dense(512,activation='relu'))\n",
        "NASNET_MOBILE.add(Dense(3, activation='softmax'))\n",
        "\n",
        "NASNET_MOBILE.summary()\n",
        "\n",
        "Adam = keras.optimizers.Adam(learning_rate=0.001)\n",
        "NASNET_MOBILE.compile(optimizer=Adam, loss='categorical_crossentropy', metrics=['accuracy'])\n",
        "\n",
        "graph = NASNET_MOBILE.fit(train_generator, epochs=25, validation_data = validation_generator)\n",
        "\n",
        "graph"
      ]
    },
    {
      "cell_type": "code",
      "execution_count": 12,
      "metadata": {
        "id": "suQxrHtG72EM",
        "colab": {
          "base_uri": "https://localhost:8080/",
          "height": 367
        },
        "outputId": "f377949c-efee-4220-fcc2-14472bdec49f"
      },
      "outputs": [
        {
          "output_type": "display_data",
          "data": {
            "text/plain": [
              "<Figure size 432x288 with 0 Axes>"
            ]
          },
          "metadata": {}
        },
        {
          "output_type": "display_data",
          "data": {
            "image/png": "[encoded data removed]",
            "text/plain": [
              "<Figure size 720x360 with 1 Axes>"
            ]
          },
          "metadata": {
            "needs_background": "light"
          }
        }
      ],
      "source": [
        "import matplotlib.pyplot as plt\n",
        "\n",
        "fig1 = plt.gcf()\n",
        "\n",
        "plt.figure(figsize=(10,5))\n",
        "\n",
        "plt.plot(graph.history['accuracy'])\n",
        "plt.plot(graph.history['val_accuracy'])\n",
        "\n",
        "# plt.axis(ymin=0.4, ymax=1)\n",
        "plt.grid()\n",
        "\n",
        "plt.title('NASNet Mobile Accuracy for COVID-19 Dataset')\n",
        "plt.ylabel('Accuracy')\n",
        "plt.xlabel('Epochs')\n",
        "plt.legend(['train','validation'])\n",
        "\n",
        "plt.show()"
      ]
    },
    {
      "cell_type": "code",
      "execution_count": 13,
      "metadata": {
        "id": "SU-pmf1Y72EN",
        "colab": {
          "base_uri": "https://localhost:8080/"
        },
        "outputId": "b5fc19c5-e816-4411-ee20-5cebd4ef7c2d"
      },
      "outputs": [
        {
          "output_type": "stream",
          "name": "stdout",
          "text": [
            "The highest accuracy achieved using NASNet Mobile Model with input 512x512 is 84.67492461204529\n"
          ]
        }
      ],
      "source": [
        "max_acc = max(graph.history['val_accuracy'])\n",
        "\n",
        "print('The highest accuracy achieved using NASNet Mobile Model with input 512x512 is', max_acc*100)"
      ]
    }
  ],
  "metadata": {
    "interpreter": {
      "hash": "80b666c07a6ca165bd4f4c9c2aef797346a64ba3bbd63991c85e4e7511a2128c"
    },
    "kernelspec": {
      "display_name": "Python 3.7.10 64-bit ('myenv': conda)",
      "language": "python",
      "name": "python3"
    },
    "language_info": {
      "codemirror_mode": {
        "name": "ipython",
        "version": 3
      },
      "file_extension": ".py",
      "mimetype": "text/x-python",
      "name": "python",
      "nbconvert_exporter": "python",
      "pygments_lexer": "ipython3",
      "version": "3.7.10"
    },
    "orig_nbformat": 4,
    "colab": {
      "name": "Harshil_NASNETMOBILE_INPUT(512).ipynb",
      "provenance": []
    },
    "accelerator": "GPU"
  },
  "nbformat": 4,
  "nbformat_minor": 0
}