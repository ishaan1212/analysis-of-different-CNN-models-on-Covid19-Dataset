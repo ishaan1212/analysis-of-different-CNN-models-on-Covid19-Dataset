{
 "cells": [
  {
   "cell_type": "code",
   "execution_count": 1,
   "metadata": {},
   "outputs": [],
   "source": [
    "from keras.models import Model\n",
    "from keras.layers import Input\n",
    "from keras.layers import Conv2D\n",
    "from keras.layers import MaxPooling2D, AveragePooling2D\n",
    "from keras.layers.merge import concatenate\n",
    "\n",
    "from keras.preprocessing.image import ImageDataGenerator\n",
    "from keras.layers import Flatten, Dense\n",
    "from keras.layers import Activation\n",
    "from keras.layers import BatchNormalization\n",
    "from keras.callbacks import ModelCheckpoint, EarlyStopping\n",
    "\n",
    "from tensorflow import keras\n",
    "\n",
    "from keras.models import Sequential\n",
    "from keras.layers.core import Flatten, Dense, Dropout\n",
    "from keras.layers.convolutional import Convolution2D, MaxPooling2D, ZeroPadding2D\n",
    "from tensorflow.keras.optimizers import SGD\n",
    "import cv2, numpy as np"
   ]
  },
  {
   "cell_type": "code",
   "execution_count": 2,
   "metadata": {},
   "outputs": [
    {
     "name": "stdout",
     "output_type": "stream",
     "text": [
      "Found 5121 images belonging to 3 classes.\n",
      "Found 1278 images belonging to 3 classes.\n"
     ]
    }
   ],
   "source": [
    "train_datagen_with_aug = ImageDataGenerator(rescale=1./255,\n",
    "                                   horizontal_flip=True,\n",
    "                                   shear_range=0.2,\n",
    "                                   zoom_range=[0.2,0.5],\n",
    "                                   width_shift_range = 0.3,\n",
    "                                   height_shift_range = 0.3,\n",
    "                                   validation_split=0.2)\n",
    "\n",
    "train_generator = train_datagen_with_aug.flow_from_directory(\n",
    "    r'D:\\My Work\\Baranidharan Sir Research\\cnn_xrays_images',\n",
    "    target_size=(512, 512),\n",
    "    batch_size=32,\n",
    "    # color_mode='grayscale',\n",
    "    class_mode='categorical',\n",
    "    subset='training'\n",
    "    ) # set as training data\n",
    "\n",
    "validation_generator = train_datagen_with_aug.flow_from_directory(\n",
    "    r'D:\\My Work\\Baranidharan Sir Research\\cnn_xrays_images', # same directory as training data\n",
    "    target_size=(512, 512),\n",
    "    batch_size=32,\n",
    "    # color_mode='grayscale',\n",
    "    class_mode='categorical',\n",
    "    subset='validation'\n",
    "    ) # set as validation data\n",
    "\n",
    "input_img = Input(shape=(512, 512, 3))"
   ]
  },
  {
   "cell_type": "code",
   "execution_count": 3,
   "metadata": {},
   "outputs": [],
   "source": [
    "from keras.applications import inception_resnet_v2\n",
    "\n",
    "INCEPTION_RESNET_V2 = Sequential()\n",
    "\n",
    "inceptionresnetv2_model = keras.applications.inception_resnet_v2.InceptionResNetV2(\n",
    "    include_top=False, weights='imagenet',\n",
    "    input_shape=(512,512,3), pooling=('max'), classes=3,\n",
    "    classifier_activation='softmax'\n",
    ")"
   ]
  },
  {
   "cell_type": "code",
   "execution_count": 4,
   "metadata": {},
   "outputs": [
    {
     "name": "stdout",
     "output_type": "stream",
     "text": [
      "Model: \"sequential\"\n",
      "_________________________________________________________________\n",
      "Layer (type)                 Output Shape              Param #   \n",
      "=================================================================\n",
      "inception_resnet_v2 (Functio (None, 1536)              54336736  \n",
      "_________________________________________________________________\n",
      "flatten (Flatten)            (None, 1536)              0         \n",
      "_________________________________________________________________\n",
      "dense (Dense)                (None, 512)               786944    \n",
      "_________________________________________________________________\n",
      "dense_1 (Dense)              (None, 3)                 1539      \n",
      "=================================================================\n",
      "Total params: 55,125,219\n",
      "Trainable params: 788,483\n",
      "Non-trainable params: 54,336,736\n",
      "_________________________________________________________________\n",
      "Epoch 1/25\n",
      "161/161 [==============================] - 2514s 16s/step - loss: 1.6570 - accuracy: 0.6110 - val_loss: 0.5669 - val_accuracy: 0.7473\n",
      "Epoch 2/25\n",
      "161/161 [==============================] - 2519s 16s/step - loss: 0.6522 - accuracy: 0.7366 - val_loss: 0.5003 - val_accuracy: 0.8059\n",
      "Epoch 3/25\n",
      "161/161 [==============================] - 2523s 16s/step - loss: 0.6239 - accuracy: 0.7538 - val_loss: 0.5423 - val_accuracy: 0.7848\n",
      "Epoch 4/25\n",
      "161/161 [==============================] - 2519s 16s/step - loss: 0.6227 - accuracy: 0.7661 - val_loss: 0.4910 - val_accuracy: 0.8232\n",
      "Epoch 5/25\n",
      "161/161 [==============================] - 2521s 16s/step - loss: 0.5420 - accuracy: 0.7891 - val_loss: 0.4958 - val_accuracy: 0.8122\n",
      "Epoch 6/25\n",
      "161/161 [==============================] - 2510s 16s/step - loss: 0.5867 - accuracy: 0.7723 - val_loss: 0.6396 - val_accuracy: 0.7308\n",
      "Epoch 7/25\n",
      "161/161 [==============================] - 2501s 16s/step - loss: 0.5462 - accuracy: 0.7959 - val_loss: 0.4450 - val_accuracy: 0.8302\n",
      "Epoch 8/25\n",
      "161/161 [==============================] - 2489s 15s/step - loss: 0.5660 - accuracy: 0.7805 - val_loss: 0.4272 - val_accuracy: 0.8380\n",
      "Epoch 9/25\n",
      "161/161 [==============================] - 2493s 15s/step - loss: 0.5193 - accuracy: 0.7952 - val_loss: 0.4139 - val_accuracy: 0.8545\n",
      "Epoch 10/25\n",
      "161/161 [==============================] - 2491s 15s/step - loss: 0.5167 - accuracy: 0.8059 - val_loss: 0.4185 - val_accuracy: 0.8302\n",
      "Epoch 11/25\n",
      "161/161 [==============================] - 2490s 15s/step - loss: 0.5105 - accuracy: 0.8067 - val_loss: 0.4648 - val_accuracy: 0.8177\n",
      "Epoch 12/25\n",
      "161/161 [==============================] - 2430s 15s/step - loss: 0.4956 - accuracy: 0.8096 - val_loss: 0.3900 - val_accuracy: 0.8638\n",
      "Epoch 13/25\n",
      "161/161 [==============================] - 2398s 15s/step - loss: 0.5153 - accuracy: 0.8071 - val_loss: 0.4230 - val_accuracy: 0.8318\n",
      "Epoch 14/25\n",
      "161/161 [==============================] - 2387s 15s/step - loss: 0.4957 - accuracy: 0.8127 - val_loss: 0.4074 - val_accuracy: 0.8545\n",
      "Epoch 15/25\n",
      "161/161 [==============================] - 2394s 15s/step - loss: 0.4801 - accuracy: 0.8147 - val_loss: 0.4105 - val_accuracy: 0.8505\n",
      "Epoch 16/25\n",
      "161/161 [==============================] - 2391s 15s/step - loss: 0.4544 - accuracy: 0.8364 - val_loss: 0.3588 - val_accuracy: 0.8662\n",
      "Epoch 17/25\n",
      "161/161 [==============================] - 2391s 15s/step - loss: 0.5195 - accuracy: 0.8028 - val_loss: 0.5162 - val_accuracy: 0.7840\n",
      "Epoch 18/25\n",
      "161/161 [==============================] - 2392s 15s/step - loss: 0.5002 - accuracy: 0.8120 - val_loss: 0.4115 - val_accuracy: 0.8459\n",
      "Epoch 19/25\n",
      "161/161 [==============================] - 2399s 15s/step - loss: 0.4840 - accuracy: 0.8184 - val_loss: 0.3546 - val_accuracy: 0.8646\n",
      "Epoch 20/25\n",
      "161/161 [==============================] - 2408s 15s/step - loss: 0.4757 - accuracy: 0.8268 - val_loss: 0.3788 - val_accuracy: 0.8646\n",
      "Epoch 21/25\n",
      "161/161 [==============================] - 2402s 15s/step - loss: 0.4960 - accuracy: 0.8104 - val_loss: 0.4517 - val_accuracy: 0.8372\n",
      "Epoch 22/25\n",
      "161/161 [==============================] - 2396s 15s/step - loss: 0.5002 - accuracy: 0.8149 - val_loss: 0.3719 - val_accuracy: 0.8670\n",
      "Epoch 23/25\n",
      "161/161 [==============================] - 2397s 15s/step - loss: 0.4721 - accuracy: 0.8246 - val_loss: 0.3718 - val_accuracy: 0.8646\n",
      "Epoch 24/25\n",
      "161/161 [==============================] - 2416s 15s/step - loss: 0.4851 - accuracy: 0.8188 - val_loss: 0.5314 - val_accuracy: 0.7692\n",
      "Epoch 25/25\n",
      "161/161 [==============================] - 2431s 15s/step - loss: 0.4727 - accuracy: 0.8248 - val_loss: 0.3663 - val_accuracy: 0.8670\n"
     ]
    },
    {
     "data": {
      "text/plain": [
       "<tensorflow.python.keras.callbacks.History at 0x14e14288448>"
      ]
     },
     "execution_count": 4,
     "metadata": {},
     "output_type": "execute_result"
    }
   ],
   "source": [
    "for layer in inceptionresnetv2_model.layers:\n",
    "    layer.trainable = False\n",
    "    \n",
    "INCEPTION_RESNET_V2.add(inceptionresnetv2_model)\n",
    "INCEPTION_RESNET_V2.add(Flatten())\n",
    "INCEPTION_RESNET_V2.add(Dense(512,activation='relu'))\n",
    "INCEPTION_RESNET_V2.add(Dense(3, activation='softmax'))\n",
    "\n",
    "INCEPTION_RESNET_V2.summary()\n",
    "\n",
    "Adam = keras.optimizers.Adam(learning_rate=0.001)\n",
    "INCEPTION_RESNET_V2.compile(optimizer=Adam, loss='categorical_crossentropy', metrics=['accuracy'])\n",
    "\n",
    "graph = INCEPTION_RESNET_V2.fit(train_generator, epochs=25, validation_data = validation_generator)\n",
    "\n",
    "graph"
   ]
  },
  {
   "cell_type": "code",
   "execution_count": 5,
   "metadata": {},
   "outputs": [
    {
     "data": {
      "image/png": "[encoded data removed]",
      "text/plain": [
       "<Figure size 432x288 with 1 Axes>"
      ]
     },
     "metadata": {
      "needs_background": "light"
     },
     "output_type": "display_data"
    }
   ],
   "source": [
    "import matplotlib.pyplot as plt\n",
    "\n",
    "fig1 = plt.gcf()\n",
    "\n",
    "plt.plot(graph.history['accuracy'])\n",
    "plt.plot(graph.history['val_accuracy'])\n",
    "\n",
    "# plt.axis(ymin=0.4, ymax=1)\n",
    "plt.grid()\n",
    "\n",
    "plt.title('InceptionResNetV2 (Input: 512x512) Model Accuracy for COVID-19 Dataset')\n",
    "plt.ylabel('Accuracy')\n",
    "plt.xlabel('Epochs')\n",
    "plt.legend(['train','validation'])\n",
    "\n",
    "plt.show()"
   ]
  },
  {
   "cell_type": "code",
   "execution_count": 6,
   "metadata": {},
   "outputs": [
    {
     "name": "stdout",
     "output_type": "stream",
     "text": [
      "The highest accuracy achieved using InceptionResNetV2 with input 512x512 is 86.69796586036682\n"
     ]
    }
   ],
   "source": [
    "max_acc = max(graph.history['val_accuracy'])\n",
    "\n",
    "print('The highest accuracy achieved using InceptionResNetV2 with input 512x512 is',max_acc*100)"
   ]
  }
 ],
 "metadata": {
  "interpreter": {
   "hash": "80b666c07a6ca165bd4f4c9c2aef797346a64ba3bbd63991c85e4e7511a2128c"
  },
  "kernelspec": {
   "display_name": "Python 3.7.10 64-bit ('myenv': conda)",
   "language": "python",
   "name": "python3"
  },
  "language_info": {
   "codemirror_mode": {
    "name": "ipython",
    "version": 3
   },
   "file_extension": ".py",
   "mimetype": "text/x-python",
   "name": "python",
   "nbconvert_exporter": "python",
   "pygments_lexer": "ipython3",
   "version": "3.7.10"
  },
  "orig_nbformat": 4
 },
 "nbformat": 4,
 "nbformat_minor": 2
}
