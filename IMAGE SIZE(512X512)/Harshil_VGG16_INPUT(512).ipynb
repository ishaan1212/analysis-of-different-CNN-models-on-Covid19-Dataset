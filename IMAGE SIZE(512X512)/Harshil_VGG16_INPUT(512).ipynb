{
  "cells": [
    {
      "cell_type": "code",
      "execution_count": 1,
      "metadata": {
        "id": "VkCS7DIV0x4U"
      },
      "outputs": [],
      "source": [
        "from keras.models import Model\n",
        "from keras.layers import Input\n",
        "from keras.layers import Conv2D\n",
        "from keras.layers import MaxPooling2D, AveragePooling2D\n",
        "from keras.layers.merge import concatenate\n",
        "\n",
        "from keras.preprocessing.image import ImageDataGenerator\n",
        "from keras.layers import Flatten, Dense\n",
        "from keras.layers import Activation\n",
        "from keras.layers import BatchNormalization\n",
        "from keras.callbacks import ModelCheckpoint, EarlyStopping"
      ]
    },
    {
      "cell_type": "code",
      "execution_count": 2,
      "metadata": {
        "id": "F6Ta1DWG0x4Y"
      },
      "outputs": [],
      "source": [
        "from tensorflow import keras"
      ]
    },
    {
      "cell_type": "code",
      "execution_count": 3,
      "metadata": {
        "id": "btJnygb60x4Y"
      },
      "outputs": [],
      "source": [
        "from keras.models import Sequential\n",
        "from keras.layers.core import Flatten, Dense, Dropout\n",
        "from keras.layers.convolutional import Convolution2D, MaxPooling2D, ZeroPadding2D\n",
        "from tensorflow.keras.optimizers import SGD\n",
        "import cv2, numpy as np"
      ]
    },
    {
      "cell_type": "code",
      "source": [
        "from google.colab import drive\n",
        "drive.mount('/content/drive')"
      ],
      "metadata": {
        "colab": {
          "base_uri": "https://localhost:8080/"
        },
        "id": "NE9imXCu1XDP",
        "outputId": "881f2002-e08e-445f-ed46-1390bd840ff2"
      },
      "execution_count": 4,
      "outputs": [
        {
          "output_type": "stream",
          "name": "stdout",
          "text": [
            "Mounted at /content/drive\n"
          ]
        }
      ]
    },
    {
      "cell_type": "code",
      "execution_count": 5,
      "metadata": {
        "colab": {
          "base_uri": "https://localhost:8080/"
        },
        "id": "4MBG28NL0x4Z",
        "outputId": "f6ca44f4-a25a-4abc-b72d-ca114d8ea753"
      },
      "outputs": [
        {
          "output_type": "stream",
          "name": "stdout",
          "text": [
            "Found 5171 images belonging to 3 classes.\n",
            "Found 1292 images belonging to 3 classes.\n"
          ]
        }
      ],
      "source": [
        "train_datagen_with_aug = ImageDataGenerator(rescale=1./255,\n",
        "                                   horizontal_flip=True,\n",
        "                                   shear_range=0.2,\n",
        "                                   zoom_range=[0.2,0.5],\n",
        "                                   width_shift_range = 0.3,\n",
        "                                   height_shift_range = 0.3,\n",
        "                                   validation_split=0.2)\n",
        "\n",
        "train_generator = train_datagen_with_aug.flow_from_directory(\n",
        "    r'/content/drive/My Drive/X-Ray Images Dataset for research project',\n",
        "    target_size=(512, 512),\n",
        "    batch_size=32,\n",
        "    # color_mode='grayscale',\n",
        "    class_mode='categorical',\n",
        "    subset='training'\n",
        "    ) # set as training data\n",
        "\n",
        "validation_generator = train_datagen_with_aug.flow_from_directory(\n",
        "    r'/content/drive/My Drive/X-Ray Images Dataset for research project', # same directory as training data\n",
        "    target_size=(512, 512),\n",
        "    batch_size=32,\n",
        "    # color_mode='grayscale',\n",
        "    class_mode='categorical',\n",
        "    subset='validation'\n",
        "    ) # set as validation data\n",
        "\n",
        "input_img = Input(shape=(512, 512, 3))"
      ]
    },
    {
      "cell_type": "code",
      "execution_count": 7,
      "metadata": {
        "colab": {
          "base_uri": "https://localhost:8080/"
        },
        "id": "EmlEmlPB0x4b",
        "outputId": "24c7aeee-4e29-43ce-ab13-d205a2fec09c"
      },
      "outputs": [
        {
          "output_type": "stream",
          "name": "stdout",
          "text": [
            "Downloading data from https://storage.googleapis.com/tensorflow/keras-applications/vgg16/vgg16_weights_tf_dim_ordering_tf_kernels_notop.h5\n",
            "58892288/58889256 [==============================] - 0s 0us/step\n",
            "58900480/58889256 [==============================] - 0s 0us/step\n",
            "Model: \"sequential\"\n",
            "_________________________________________________________________\n",
            " Layer (type)                Output Shape              Param #   \n",
            "=================================================================\n",
            " vgg16 (Functional)          (None, 512)               14714688  \n",
            "                                                                 \n",
            " flatten (Flatten)           (None, 512)               0         \n",
            "                                                                 \n",
            " dense (Dense)               (None, 512)               262656    \n",
            "                                                                 \n",
            " dense_1 (Dense)             (None, 3)                 1539      \n",
            "                                                                 \n",
            "=================================================================\n",
            "Total params: 14,978,883\n",
            "Trainable params: 264,195\n",
            "Non-trainable params: 14,714,688\n",
            "_________________________________________________________________\n",
            "Epoch 1/25\n",
            "162/162 [==============================] - 1583s 9s/step - loss: 0.9967 - accuracy: 0.4922 - val_loss: 0.9164 - val_accuracy: 0.5774\n",
            "Epoch 2/25\n",
            "162/162 [==============================] - 637s 4s/step - loss: 0.9341 - accuracy: 0.5527 - val_loss: 0.8966 - val_accuracy: 0.5611\n",
            "Epoch 3/25\n",
            "162/162 [==============================] - 645s 4s/step - loss: 0.9008 - accuracy: 0.5728 - val_loss: 0.8643 - val_accuracy: 0.5735\n",
            "Epoch 4/25\n",
            "162/162 [==============================] - 647s 4s/step - loss: 0.8737 - accuracy: 0.5885 - val_loss: 0.8484 - val_accuracy: 0.6006\n",
            "Epoch 5/25\n",
            "162/162 [==============================] - 634s 4s/step - loss: 0.8603 - accuracy: 0.6016 - val_loss: 0.8297 - val_accuracy: 0.6130\n",
            "Epoch 6/25\n",
            "162/162 [==============================] - 634s 4s/step - loss: 0.8487 - accuracy: 0.6094 - val_loss: 0.8197 - val_accuracy: 0.5998\n",
            "Epoch 7/25\n",
            "162/162 [==============================] - 632s 4s/step - loss: 0.8275 - accuracy: 0.6243 - val_loss: 0.8047 - val_accuracy: 0.6153\n",
            "Epoch 8/25\n",
            "162/162 [==============================] - 633s 4s/step - loss: 0.8201 - accuracy: 0.6250 - val_loss: 0.7736 - val_accuracy: 0.6517\n",
            "Epoch 9/25\n",
            "162/162 [==============================] - 631s 4s/step - loss: 0.8222 - accuracy: 0.6200 - val_loss: 0.7950 - val_accuracy: 0.6618\n",
            "Epoch 10/25\n",
            "162/162 [==============================] - 636s 4s/step - loss: 0.7993 - accuracy: 0.6339 - val_loss: 0.7708 - val_accuracy: 0.6533\n",
            "Epoch 11/25\n",
            "162/162 [==============================] - 633s 4s/step - loss: 0.8034 - accuracy: 0.6360 - val_loss: 0.7521 - val_accuracy: 0.6416\n",
            "Epoch 12/25\n",
            "162/162 [==============================] - 635s 4s/step - loss: 0.7757 - accuracy: 0.6565 - val_loss: 0.7297 - val_accuracy: 0.6563\n",
            "Epoch 13/25\n",
            "162/162 [==============================] - 634s 4s/step - loss: 0.7769 - accuracy: 0.6506 - val_loss: 0.7350 - val_accuracy: 0.7067\n",
            "Epoch 14/25\n",
            "162/162 [==============================] - 633s 4s/step - loss: 0.7661 - accuracy: 0.6660 - val_loss: 0.7329 - val_accuracy: 0.7098\n",
            "Epoch 15/25\n",
            "162/162 [==============================] - 631s 4s/step - loss: 0.7589 - accuracy: 0.6645 - val_loss: 0.6926 - val_accuracy: 0.7105\n",
            "Epoch 16/25\n",
            "162/162 [==============================] - 632s 4s/step - loss: 0.7498 - accuracy: 0.6709 - val_loss: 0.7815 - val_accuracy: 0.6300\n",
            "Epoch 17/25\n",
            "162/162 [==============================] - 632s 4s/step - loss: 0.7657 - accuracy: 0.6647 - val_loss: 0.7052 - val_accuracy: 0.6796\n",
            "Epoch 18/25\n",
            "162/162 [==============================] - 631s 4s/step - loss: 0.7358 - accuracy: 0.6805 - val_loss: 0.7545 - val_accuracy: 0.6401\n",
            "Epoch 19/25\n",
            "162/162 [==============================] - 629s 4s/step - loss: 0.7477 - accuracy: 0.6774 - val_loss: 0.6978 - val_accuracy: 0.6974\n",
            "Epoch 20/25\n",
            "162/162 [==============================] - 629s 4s/step - loss: 0.7455 - accuracy: 0.6825 - val_loss: 0.7205 - val_accuracy: 0.7036\n",
            "Epoch 21/25\n",
            "162/162 [==============================] - 630s 4s/step - loss: 0.7483 - accuracy: 0.6709 - val_loss: 0.6605 - val_accuracy: 0.7260\n",
            "Epoch 22/25\n",
            "162/162 [==============================] - 626s 4s/step - loss: 0.7310 - accuracy: 0.6908 - val_loss: 0.6826 - val_accuracy: 0.6741\n",
            "Epoch 23/25\n",
            "162/162 [==============================] - 624s 4s/step - loss: 0.7181 - accuracy: 0.6948 - val_loss: 0.6534 - val_accuracy: 0.7353\n",
            "Epoch 24/25\n",
            "162/162 [==============================] - 626s 4s/step - loss: 0.7234 - accuracy: 0.6923 - val_loss: 0.6816 - val_accuracy: 0.6726\n",
            "Epoch 25/25\n",
            "162/162 [==============================] - 628s 4s/step - loss: 0.7098 - accuracy: 0.6966 - val_loss: 0.6571 - val_accuracy: 0.7167\n"
          ]
        },
        {
          "output_type": "execute_result",
          "data": {
            "text/plain": [
              "<keras.callbacks.History at 0x7f43372fb850>"
            ]
          },
          "metadata": {},
          "execution_count": 7
        }
      ],
      "source": [
        "from keras.applications import vgg16\n",
        "\n",
        "VGG_16_MODEL = Sequential()\n",
        "\n",
        "vgg16 = keras.applications.vgg16.VGG16(\n",
        "    include_top=False, weights='imagenet', input_tensor=None,\n",
        "    input_shape=(512,512,3), pooling='max', classes=3,\n",
        "    classifier_activation='softmax'\n",
        ")\n",
        "\n",
        "for layer in vgg16.layers:\n",
        "    layer.trainable = False \n",
        "    \n",
        "VGG_16_MODEL.add(vgg16)\n",
        "VGG_16_MODEL.add(Flatten())\n",
        "VGG_16_MODEL.add(Dense(512,activation='relu'))\n",
        "VGG_16_MODEL.add(Dense(3, activation='softmax'))\n",
        "\n",
        "VGG_16_MODEL.summary()\n",
        "\n",
        "sgd = SGD(learning_rate=0.001, momentum=0.9)\n",
        "\n",
        "VGG_16_MODEL.compile(optimizer=sgd, loss='categorical_crossentropy', metrics=['accuracy'])\n",
        "\n",
        "graph = VGG_16_MODEL.fit(train_generator, validation_data=validation_generator, epochs=25)\n",
        "\n",
        "graph"
      ]
    },
    {
      "cell_type": "code",
      "execution_count": 8,
      "metadata": {
        "colab": {
          "base_uri": "https://localhost:8080/",
          "height": 295
        },
        "id": "ORjx82bK0x4c",
        "outputId": "144f6a0d-1451-43f5-98cc-3881c3d09526"
      },
      "outputs": [
        {
          "output_type": "display_data",
          "data": {
            "image/png": "[encoded data removed]",
            "text/plain": [
              "<Figure size 432x288 with 1 Axes>"
            ]
          },
          "metadata": {
            "needs_background": "light"
          }
        }
      ],
      "source": [
        "import matplotlib.pyplot as plt\n",
        "\n",
        "fig1 = plt.gcf()\n",
        "\n",
        "plt.plot(graph.history['accuracy'])\n",
        "plt.plot(graph.history['val_accuracy'])\n",
        "\n",
        "# plt.axis(ymin=0.4, ymax=1)\n",
        "plt.grid()\n",
        "\n",
        "plt.title('VGG16 (Input: 512x512) Model Accuracy for COVID-19 Dataset')\n",
        "plt.ylabel('Accuracy')\n",
        "plt.xlabel('Epochs')\n",
        "plt.legend(['train','validation'])\n",
        "\n",
        "plt.show()"
      ]
    },
    {
      "cell_type": "code",
      "execution_count": 9,
      "metadata": {
        "colab": {
          "base_uri": "https://localhost:8080/"
        },
        "id": "88bh_Fgn0x4d",
        "outputId": "4dc43144-50ef-4ca4-e707-dd6ac37c992d"
      },
      "outputs": [
        {
          "output_type": "stream",
          "name": "stdout",
          "text": [
            "The highest accuracy achieved using VGG16 with input 512x512 is 73.52941036224365\n"
          ]
        }
      ],
      "source": [
        "max_acc = max(graph.history['val_accuracy'])\n",
        "\n",
        "print('The highest accuracy achieved using VGG16 with input 512x512 is',max_acc*100)"
      ]
    }
  ],
  "metadata": {
    "interpreter": {
      "hash": "2bbffc7375e247d4d3dcad3e2b88aceebc184229a06e733d3dfbf3f54ea44b79"
    },
    "kernelspec": {
      "display_name": "Python 3.6.13 64-bit ('gpu_env': conda)",
      "language": "python",
      "name": "python3"
    },
    "language_info": {
      "codemirror_mode": {
        "name": "ipython",
        "version": 3
      },
      "file_extension": ".py",
      "mimetype": "text/x-python",
      "name": "python",
      "nbconvert_exporter": "python",
      "pygments_lexer": "ipython3",
      "version": "3.7.10"
    },
    "orig_nbformat": 4,
    "colab": {
      "name": "Harshil_VGG16_INPUT(512).ipynb",
      "provenance": []
    },
    "accelerator": "GPU"
  },
  "nbformat": 4,
  "nbformat_minor": 0
}