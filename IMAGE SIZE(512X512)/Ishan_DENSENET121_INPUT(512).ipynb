{
 "cells": [
  {
   "cell_type": "code",
   "execution_count": 1,
   "metadata": {},
   "outputs": [],
   "source": [
    "from keras.models import Model\n",
    "from keras.layers import Input\n",
    "from keras.layers import Conv2D\n",
    "from keras.layers import MaxPooling2D, AveragePooling2D\n",
    "from keras.layers.merge import concatenate\n",
    "\n",
    "from keras.preprocessing.image import ImageDataGenerator\n",
    "from keras.layers import Flatten, Dense\n",
    "from keras.layers import Activation\n",
    "from keras.layers import BatchNormalization\n",
    "from keras.callbacks import ModelCheckpoint, EarlyStopping\n",
    "\n",
    "from tensorflow import keras\n",
    "\n",
    "from keras.models import Sequential\n",
    "from keras.layers.core import Flatten, Dense, Dropout\n",
    "from keras.layers.convolutional import Convolution2D, MaxPooling2D, ZeroPadding2D\n",
    "from tensorflow.keras.optimizers import SGD\n",
    "import cv2, numpy as np"
   ]
  },
  {
   "cell_type": "code",
   "execution_count": 2,
   "metadata": {},
   "outputs": [
    {
     "name": "stdout",
     "output_type": "stream",
     "text": [
      "Found 5171 images belonging to 3 classes.\n",
      "Found 1292 images belonging to 3 classes.\n"
     ]
    }
   ],
   "source": [
    "train_datagen_with_aug = ImageDataGenerator(rescale=1./255,\n",
    "                                   horizontal_flip=True,\n",
    "                                   shear_range=0.2,\n",
    "                                   zoom_range=[0.2,0.5],\n",
    "                                   width_shift_range = 0.3,\n",
    "                                   height_shift_range = 0.3,\n",
    "                                   validation_split=0.2)\n",
    "\n",
    "train_generator = train_datagen_with_aug.flow_from_directory(\n",
    "    r'D:\\BARANIDHARAN SIR PROJECT\\X-Ray Images Dataset for research project-20211204T084221Z-001',\n",
    "    target_size=(512, 512),\n",
    "    batch_size=32,\n",
    "    # color_mode='grayscale',\n",
    "    class_mode='categorical',\n",
    "    subset='training'\n",
    "    ) # set as training data\n",
    "\n",
    "validation_generator = train_datagen_with_aug.flow_from_directory(\n",
    "    r'D:\\BARANIDHARAN SIR PROJECT\\X-Ray Images Dataset for research project-20211204T084221Z-001', # same directory as training data\n",
    "    target_size=(512, 512),\n",
    "    batch_size=32,\n",
    "    # color_mode='grayscale',\n",
    "    class_mode='categorical',\n",
    "    subset='validation'\n",
    "    ) # set as validation data\n",
    "\n",
    "input_img = Input(shape=(512, 512, 3))"
   ]
  },
  {
   "cell_type": "code",
   "execution_count": 3,
   "metadata": {},
   "outputs": [],
   "source": [
    "from keras.applications import densenet\n",
    "\n",
    "DENSENET = Sequential()\n",
    "\n",
    "densenet_model = keras.applications.densenet.DenseNet121(\n",
    "    include_top=False, weights='imagenet',\n",
    "    input_shape=(512,512,3), pooling='max', classes=3\n",
    ")"
   ]
  },
  {
   "cell_type": "code",
   "execution_count": 4,
   "metadata": {},
   "outputs": [
    {
     "name": "stdout",
     "output_type": "stream",
     "text": [
      "Model: \"sequential\"\n",
      "_________________________________________________________________\n",
      "Layer (type)                 Output Shape              Param #   \n",
      "=================================================================\n",
      "densenet121 (Functional)     (None, 1024)              7037504   \n",
      "_________________________________________________________________\n",
      "flatten (Flatten)            (None, 1024)              0         \n",
      "_________________________________________________________________\n",
      "dense (Dense)                (None, 512)               524800    \n",
      "_________________________________________________________________\n",
      "dense_1 (Dense)              (None, 3)                 1539      \n",
      "=================================================================\n",
      "Total params: 7,563,843\n",
      "Trainable params: 526,339\n",
      "Non-trainable params: 7,037,504\n",
      "_________________________________________________________________\n",
      "Epoch 1/25\n",
      "162/162 [==============================] - 3048s 19s/step - loss: 0.9831 - accuracy: 0.6709 - val_loss: 0.4644 - val_accuracy: 0.8080\n",
      "Epoch 2/25\n",
      "162/162 [==============================] - 3431s 21s/step - loss: 0.6361 - accuracy: 0.7540 - val_loss: 0.4310 - val_accuracy: 0.8406\n",
      "Epoch 3/25\n",
      "162/162 [==============================] - 2998s 19s/step - loss: 0.5624 - accuracy: 0.7797 - val_loss: 0.6500 - val_accuracy: 0.7345\n",
      "Epoch 4/25\n",
      "162/162 [==============================] - 4045s 25s/step - loss: 0.5436 - accuracy: 0.7971 - val_loss: 0.4065 - val_accuracy: 0.8498\n",
      "Epoch 5/25\n",
      "162/162 [==============================] - 3366s 21s/step - loss: 0.4840 - accuracy: 0.8198 - val_loss: 0.4106 - val_accuracy: 0.8452\n",
      "Epoch 6/25\n",
      "162/162 [==============================] - 3118s 19s/step - loss: 0.5123 - accuracy: 0.8089 - val_loss: 0.4405 - val_accuracy: 0.8351\n",
      "Epoch 7/25\n",
      "162/162 [==============================] - 3013s 19s/step - loss: 0.5021 - accuracy: 0.8101 - val_loss: 0.3782 - val_accuracy: 0.8498\n",
      "Epoch 8/25\n",
      "162/162 [==============================] - 3045s 19s/step - loss: 0.4832 - accuracy: 0.8165 - val_loss: 0.3541 - val_accuracy: 0.8591\n",
      "Epoch 9/25\n",
      "162/162 [==============================] - 3052s 19s/step - loss: 0.4861 - accuracy: 0.8188 - val_loss: 0.3926 - val_accuracy: 0.8467\n",
      "Epoch 10/25\n",
      "162/162 [==============================] - 3056s 19s/step - loss: 0.4711 - accuracy: 0.8289 - val_loss: 0.3701 - val_accuracy: 0.8545\n",
      "Epoch 11/25\n",
      "162/162 [==============================] - 3088s 19s/step - loss: 0.4682 - accuracy: 0.8265 - val_loss: 0.3742 - val_accuracy: 0.8560\n",
      "Epoch 12/25\n",
      "162/162 [==============================] - 3252s 20s/step - loss: 0.4639 - accuracy: 0.8232 - val_loss: 0.4702 - val_accuracy: 0.8166\n",
      "Epoch 13/25\n",
      "162/162 [==============================] - 3284s 20s/step - loss: 0.4770 - accuracy: 0.8184 - val_loss: 0.3731 - val_accuracy: 0.8607\n",
      "Epoch 14/25\n",
      "162/162 [==============================] - 3032s 19s/step - loss: 0.4603 - accuracy: 0.8323 - val_loss: 0.5128 - val_accuracy: 0.8003\n",
      "Epoch 15/25\n",
      "162/162 [==============================] - 3009s 19s/step - loss: 0.4621 - accuracy: 0.8312 - val_loss: 0.3962 - val_accuracy: 0.8514\n",
      "Epoch 16/25\n",
      "162/162 [==============================] - 3009s 19s/step - loss: 0.4465 - accuracy: 0.8339 - val_loss: 0.3662 - val_accuracy: 0.8553\n",
      "Epoch 17/25\n",
      "162/162 [==============================] - 3006s 19s/step - loss: 0.4520 - accuracy: 0.8292 - val_loss: 0.3787 - val_accuracy: 0.8506\n",
      "Epoch 18/25\n",
      "162/162 [==============================] - 3004s 19s/step - loss: 0.4504 - accuracy: 0.8352 - val_loss: 0.3627 - val_accuracy: 0.8630\n",
      "Epoch 19/25\n",
      "162/162 [==============================] - 3003s 19s/step - loss: 0.4475 - accuracy: 0.8343 - val_loss: 0.3742 - val_accuracy: 0.8576\n",
      "Epoch 20/25\n",
      "162/162 [==============================] - 3002s 19s/step - loss: 0.4366 - accuracy: 0.8347 - val_loss: 0.3470 - val_accuracy: 0.8661\n",
      "Epoch 21/25\n",
      "162/162 [==============================] - 3004s 19s/step - loss: 0.4351 - accuracy: 0.8385 - val_loss: 0.3639 - val_accuracy: 0.8684\n",
      "Epoch 22/25\n",
      "162/162 [==============================] - 3004s 19s/step - loss: 0.4514 - accuracy: 0.8316 - val_loss: 0.3257 - val_accuracy: 0.8715\n",
      "Epoch 23/25\n",
      "162/162 [==============================] - 3004s 19s/step - loss: 0.4304 - accuracy: 0.8445 - val_loss: 0.3545 - val_accuracy: 0.8638\n",
      "Epoch 24/25\n",
      "162/162 [==============================] - 2999s 19s/step - loss: 0.4553 - accuracy: 0.8341 - val_loss: 0.3354 - val_accuracy: 0.8824\n",
      "Epoch 25/25\n",
      "162/162 [==============================] - 3066s 19s/step - loss: 0.4354 - accuracy: 0.8401 - val_loss: 0.3566 - val_accuracy: 0.8800\n"
     ]
    },
    {
     "data": {
      "text/plain": [
       "<tensorflow.python.keras.callbacks.History at 0x286379df248>"
      ]
     },
     "execution_count": 4,
     "metadata": {},
     "output_type": "execute_result"
    }
   ],
   "source": [
    "for layer in densenet_model.layers:\n",
    "    layer.trainable = False\n",
    "    \n",
    "DENSENET.add(densenet_model)\n",
    "DENSENET.add(Flatten())\n",
    "DENSENET.add(Dense(512,activation='relu'))\n",
    "DENSENET.add(Dense(3, activation='softmax'))\n",
    "\n",
    "DENSENET.summary()\n",
    "\n",
    "Adam = keras.optimizers.Adam(learning_rate=0.001)\n",
    "DENSENET.compile(optimizer=Adam, loss='categorical_crossentropy', metrics=['accuracy'])\n",
    "\n",
    "graph = DENSENET.fit(train_generator, epochs=25, validation_data = validation_generator)\n",
    "\n",
    "graph"
   ]
  },
  {
   "cell_type": "code",
   "execution_count": 5,
   "metadata": {},
   "outputs": [
    {
     "data": {
      "image/png": "[encoded data removed]",
      "text/plain": [
       "<Figure size 432x288 with 1 Axes>"
      ]
     },
     "metadata": {
      "needs_background": "light"
     },
     "output_type": "display_data"
    }
   ],
   "source": [
    "import matplotlib.pyplot as plt\n",
    "\n",
    "fig1 = plt.gcf()\n",
    "\n",
    "plt.plot(graph.history['accuracy'])\n",
    "plt.plot(graph.history['val_accuracy'])\n",
    "\n",
    "# plt.axis(ymin=0.4, ymax=1)\n",
    "plt.grid()\n",
    "\n",
    "plt.title('DenseNet121 Model Accuracy for COVID-19 Dataset')\n",
    "plt.ylabel('Accuracy')\n",
    "plt.xlabel('Epochs')\n",
    "plt.legend(['train','validation'])\n",
    "\n",
    "plt.show()"
   ]
  },
  {
   "cell_type": "code",
   "execution_count": 6,
   "metadata": {},
   "outputs": [
    {
     "name": "stdout",
     "output_type": "stream",
     "text": [
      "The highest accuracy achieved using DenseNet121 model is 88.23529481887817\n"
     ]
    }
   ],
   "source": [
    "max_acc = max(graph.history['val_accuracy'])\n",
    "\n",
    "print('The highest accuracy achieved using DenseNet121 model is',max_acc*100)"
   ]
  }
 ],
 "metadata": {
  "interpreter": {
   "hash": "9da5a1eb768521143534bf09b996f0d525d45d2d4b488be6c4304e80c1815fea"
  },
  "kernelspec": {
   "display_name": "Python 3.9.7 64-bit ('base': conda)",
   "language": "python",
   "name": "python3"
  },
  "language_info": {
   "codemirror_mode": {
    "name": "ipython",
    "version": 3
   },
   "file_extension": ".py",
   "mimetype": "text/x-python",
   "name": "python",
   "nbconvert_exporter": "python",
   "pygments_lexer": "ipython3",
   "version": "3.7.10"
  },
  "orig_nbformat": 4
 },
 "nbformat": 4,
 "nbformat_minor": 2
}
