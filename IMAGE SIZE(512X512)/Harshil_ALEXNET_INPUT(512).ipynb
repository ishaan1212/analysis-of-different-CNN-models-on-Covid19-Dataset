{
 "cells": [
  {
   "cell_type": "code",
   "execution_count": 5,
   "metadata": {},
   "outputs": [],
   "source": [
    "import tensorflow as tf\n",
    "from tensorflow import keras\n",
    "import matplotlib.pyplot as plt"
   ]
  },
  {
   "cell_type": "code",
   "execution_count": 6,
   "metadata": {},
   "outputs": [],
   "source": [
    "from keras.models import Model\n",
    "from keras.layers import Input\n",
    "from keras.layers import Conv2D\n",
    "from keras.layers import MaxPooling2D, AveragePooling2D\n",
    "from keras.layers.merge import concatenate\n",
    "\n",
    "from keras.preprocessing.image import ImageDataGenerator\n",
    "from keras.layers import Flatten, Dense\n",
    "from keras.layers import Activation\n",
    "from keras.layers import BatchNormalization\n",
    "from keras.callbacks import ModelCheckpoint, EarlyStopping\n",
    "\n",
    "from tensorflow import keras\n",
    "\n",
    "from keras.models import Sequential\n",
    "from keras.layers.core import Flatten, Dense, Dropout\n",
    "from keras.layers.convolutional import Convolution2D, MaxPooling2D, ZeroPadding2D\n",
    "from tensorflow.keras.optimizers import SGD\n",
    "import cv2, numpy as np"
   ]
  },
  {
   "cell_type": "code",
   "execution_count": 7,
   "metadata": {},
   "outputs": [
    {
     "name": "stdout",
     "output_type": "stream",
     "text": [
      "Found 5121 images belonging to 3 classes.\n",
      "Found 1278 images belonging to 3 classes.\n"
     ]
    }
   ],
   "source": [
    "train_datagen_with_aug = ImageDataGenerator(rescale=1./255,\n",
    "                                   horizontal_flip=True,\n",
    "                                   shear_range=0.2,\n",
    "                                   zoom_range=[0.2,0.5],\n",
    "                                   width_shift_range = 0.3,\n",
    "                                   height_shift_range = 0.3,\n",
    "                                   validation_split=0.2)\n",
    "\n",
    "train_generator = train_datagen_with_aug.flow_from_directory(\n",
    "    r'D:\\My Work\\Baranidharan Sir Research\\cnn_xrays_images',\n",
    "    target_size=(512, 512),\n",
    "    batch_size=32,\n",
    "    # color_mode='grayscale',\n",
    "    class_mode='categorical',\n",
    "    subset='training'\n",
    "    ) # set as training data\n",
    "\n",
    "validation_generator = train_datagen_with_aug.flow_from_directory(\n",
    "    r'D:\\My Work\\Baranidharan Sir Research\\cnn_xrays_images', # same directory as training data\n",
    "    target_size=(512, 512),\n",
    "    batch_size=32,\n",
    "    # color_mode='grayscale',\n",
    "    class_mode='categorical',\n",
    "    subset='validation'\n",
    "    ) # set as validation data\n",
    "\n",
    "input_img = Input(shape=(512, 512, 3))"
   ]
  },
  {
   "cell_type": "code",
   "execution_count": 8,
   "metadata": {},
   "outputs": [],
   "source": [
    "model = keras.models.Sequential([\n",
    "    keras.layers.Conv2D(filters=96, kernel_size=(11,11), strides=(4,4), activation='relu', input_shape=(512,512,3)),\n",
    "    keras.layers.BatchNormalization(),\n",
    "    keras.layers.MaxPool2D(pool_size=(3,3), strides=(2,2)),\n",
    "    keras.layers.Conv2D(filters=256, kernel_size=(5,5), strides=(1,1), activation='relu', padding=\"same\"),\n",
    "    keras.layers.BatchNormalization(),\n",
    "    keras.layers.MaxPool2D(pool_size=(3,3), strides=(2,2)),\n",
    "    keras.layers.Conv2D(filters=384, kernel_size=(3,3), strides=(1,1), activation='relu', padding=\"same\"),\n",
    "    keras.layers.BatchNormalization(),\n",
    "    keras.layers.Conv2D(filters=384, kernel_size=(3,3), strides=(1,1), activation='relu', padding=\"same\"),\n",
    "    keras.layers.BatchNormalization(),\n",
    "    keras.layers.Conv2D(filters=256, kernel_size=(3,3), strides=(1,1), activation='relu', padding=\"same\"),\n",
    "    keras.layers.BatchNormalization(),\n",
    "    keras.layers.MaxPool2D(pool_size=(3,3), strides=(2,2)),\n",
    "    keras.layers.Flatten(),\n",
    "    keras.layers.Dense(4096, activation='relu'),\n",
    "    keras.layers.Dropout(0.5),\n",
    "    keras.layers.Dense(4096, activation='relu'),\n",
    "    keras.layers.Dropout(0.5),\n",
    "    keras.layers.Dense(3, activation='softmax')\n",
    "])"
   ]
  },
  {
   "cell_type": "code",
   "execution_count": 9,
   "metadata": {},
   "outputs": [
    {
     "name": "stdout",
     "output_type": "stream",
     "text": [
      "Model: \"sequential\"\n",
      "_________________________________________________________________\n",
      "Layer (type)                 Output Shape              Param #   \n",
      "=================================================================\n",
      "conv2d (Conv2D)              (None, 126, 126, 96)      34944     \n",
      "_________________________________________________________________\n",
      "batch_normalization (BatchNo (None, 126, 126, 96)      384       \n",
      "_________________________________________________________________\n",
      "max_pooling2d (MaxPooling2D) (None, 62, 62, 96)        0         \n",
      "_________________________________________________________________\n",
      "conv2d_1 (Conv2D)            (None, 62, 62, 256)       614656    \n",
      "_________________________________________________________________\n",
      "batch_normalization_1 (Batch (None, 62, 62, 256)       1024      \n",
      "_________________________________________________________________\n",
      "max_pooling2d_1 (MaxPooling2 (None, 30, 30, 256)       0         \n",
      "_________________________________________________________________\n",
      "conv2d_2 (Conv2D)            (None, 30, 30, 384)       885120    \n",
      "_________________________________________________________________\n",
      "batch_normalization_2 (Batch (None, 30, 30, 384)       1536      \n",
      "_________________________________________________________________\n",
      "conv2d_3 (Conv2D)            (None, 30, 30, 384)       1327488   \n",
      "_________________________________________________________________\n",
      "batch_normalization_3 (Batch (None, 30, 30, 384)       1536      \n",
      "_________________________________________________________________\n",
      "conv2d_4 (Conv2D)            (None, 30, 30, 256)       884992    \n",
      "_________________________________________________________________\n",
      "batch_normalization_4 (Batch (None, 30, 30, 256)       1024      \n",
      "_________________________________________________________________\n",
      "max_pooling2d_2 (MaxPooling2 (None, 14, 14, 256)       0         \n",
      "_________________________________________________________________\n",
      "flatten (Flatten)            (None, 50176)             0         \n",
      "_________________________________________________________________\n",
      "dense (Dense)                (None, 4096)              205524992 \n",
      "_________________________________________________________________\n",
      "dropout (Dropout)            (None, 4096)              0         \n",
      "_________________________________________________________________\n",
      "dense_1 (Dense)              (None, 4096)              16781312  \n",
      "_________________________________________________________________\n",
      "dropout_1 (Dropout)          (None, 4096)              0         \n",
      "_________________________________________________________________\n",
      "dense_2 (Dense)              (None, 3)                 12291     \n",
      "=================================================================\n",
      "Total params: 226,071,299\n",
      "Trainable params: 226,068,547\n",
      "Non-trainable params: 2,752\n",
      "_________________________________________________________________\n"
     ]
    }
   ],
   "source": [
    "model.compile(loss='categorical_crossentropy', optimizer=tf.optimizers.SGD(lr=0.001), metrics=['accuracy'])\n",
    "model.summary()"
   ]
  },
  {
   "cell_type": "code",
   "execution_count": 10,
   "metadata": {},
   "outputs": [
    {
     "name": "stdout",
     "output_type": "stream",
     "text": [
      "Epoch 1/25\n",
      "161/161 [==============================] - 1523s 9s/step - loss: 1.7118 - accuracy: 0.5103 - val_loss: 2.5307 - val_accuracy: 0.3858\n",
      "Epoch 2/25\n",
      "161/161 [==============================] - 1524s 9s/step - loss: 1.3126 - accuracy: 0.5745 - val_loss: 2.3814 - val_accuracy: 0.3998\n",
      "Epoch 3/25\n",
      "161/161 [==============================] - 1534s 10s/step - loss: 1.1532 - accuracy: 0.6048 - val_loss: 1.7123 - val_accuracy: 0.4554\n",
      "Epoch 4/25\n",
      "161/161 [==============================] - 1536s 10s/step - loss: 1.0921 - accuracy: 0.6057 - val_loss: 1.3978 - val_accuracy: 0.4789\n",
      "Epoch 5/25\n",
      "161/161 [==============================] - 1535s 10s/step - loss: 1.0093 - accuracy: 0.6237 - val_loss: 0.7716 - val_accuracy: 0.6721\n",
      "Epoch 6/25\n",
      "161/161 [==============================] - 1531s 10s/step - loss: 0.9462 - accuracy: 0.6436 - val_loss: 1.0657 - val_accuracy: 0.5055\n",
      "Epoch 7/25\n",
      "161/161 [==============================] - 1532s 10s/step - loss: 0.9078 - accuracy: 0.6411 - val_loss: 0.8163 - val_accuracy: 0.6565\n",
      "Epoch 8/25\n",
      "161/161 [==============================] - 1533s 10s/step - loss: 0.9019 - accuracy: 0.6391 - val_loss: 0.7271 - val_accuracy: 0.6964\n",
      "Epoch 9/25\n",
      "161/161 [==============================] - 1530s 10s/step - loss: 0.8501 - accuracy: 0.6563 - val_loss: 0.9498 - val_accuracy: 0.6033\n",
      "Epoch 10/25\n",
      "161/161 [==============================] - 1523s 9s/step - loss: 0.8253 - accuracy: 0.6663 - val_loss: 0.7160 - val_accuracy: 0.6753\n",
      "Epoch 11/25\n",
      "161/161 [==============================] - 1529s 9s/step - loss: 0.8124 - accuracy: 0.6717 - val_loss: 0.6142 - val_accuracy: 0.7504\n",
      "Epoch 12/25\n",
      "161/161 [==============================] - 1384s 9s/step - loss: 0.7628 - accuracy: 0.6915 - val_loss: 0.6671 - val_accuracy: 0.7316\n",
      "Epoch 13/25\n",
      "161/161 [==============================] - 1293s 8s/step - loss: 0.7913 - accuracy: 0.6790 - val_loss: 0.7155 - val_accuracy: 0.6886\n",
      "Epoch 14/25\n",
      "161/161 [==============================] - 1293s 8s/step - loss: 0.7471 - accuracy: 0.6934 - val_loss: 0.6737 - val_accuracy: 0.7214\n",
      "Epoch 15/25\n",
      "161/161 [==============================] - 1298s 8s/step - loss: 0.7563 - accuracy: 0.6919 - val_loss: 0.6904 - val_accuracy: 0.7011\n",
      "Epoch 16/25\n",
      "161/161 [==============================] - 1291s 8s/step - loss: 0.7367 - accuracy: 0.6981 - val_loss: 0.8695 - val_accuracy: 0.6330\n",
      "Epoch 17/25\n",
      "161/161 [==============================] - 1294s 8s/step - loss: 0.7299 - accuracy: 0.7122 - val_loss: 0.6510 - val_accuracy: 0.7371\n",
      "Epoch 18/25\n",
      "161/161 [==============================] - 1291s 8s/step - loss: 0.7164 - accuracy: 0.7100 - val_loss: 1.4169 - val_accuracy: 0.4531\n",
      "Epoch 19/25\n",
      "161/161 [==============================] - 1292s 8s/step - loss: 0.7222 - accuracy: 0.7069 - val_loss: 0.5802 - val_accuracy: 0.7700\n",
      "Epoch 20/25\n",
      "161/161 [==============================] - 1293s 8s/step - loss: 0.7030 - accuracy: 0.7184 - val_loss: 0.7104 - val_accuracy: 0.6956\n",
      "Epoch 21/25\n",
      "161/161 [==============================] - 1292s 8s/step - loss: 0.7123 - accuracy: 0.7081 - val_loss: 1.1664 - val_accuracy: 0.4460\n",
      "Epoch 22/25\n",
      "161/161 [==============================] - 1303s 8s/step - loss: 0.6808 - accuracy: 0.7276 - val_loss: 0.6547 - val_accuracy: 0.7332\n",
      "Epoch 23/25\n",
      "161/161 [==============================] - 1296s 8s/step - loss: 0.6966 - accuracy: 0.7206 - val_loss: 0.7155 - val_accuracy: 0.7034\n",
      "Epoch 24/25\n",
      "161/161 [==============================] - 1295s 8s/step - loss: 0.6670 - accuracy: 0.7340 - val_loss: 0.8608 - val_accuracy: 0.6080\n",
      "Epoch 25/25\n",
      "161/161 [==============================] - 1297s 8s/step - loss: 0.6985 - accuracy: 0.7251 - val_loss: 0.9121 - val_accuracy: 0.5782\n"
     ]
    },
    {
     "data": {
      "text/plain": [
       "<tensorflow.python.keras.callbacks.History at 0x2ac101c5c48>"
      ]
     },
     "execution_count": 10,
     "metadata": {},
     "output_type": "execute_result"
    }
   ],
   "source": [
    "graph = model.fit(train_generator, epochs=25, validation_data=validation_generator)\n",
    "graph"
   ]
  },
  {
   "cell_type": "code",
   "execution_count": 11,
   "metadata": {},
   "outputs": [
    {
     "data": {
      "image/png": "[encoded data removed]",
      "text/plain": [
       "<Figure size 432x288 with 1 Axes>"
      ]
     },
     "metadata": {
      "needs_background": "light"
     },
     "output_type": "display_data"
    }
   ],
   "source": [
    "import matplotlib.pyplot as plt\n",
    "\n",
    "fig1 = plt.gcf()\n",
    "\n",
    "plt.plot(graph.history['accuracy'])\n",
    "plt.plot(graph.history['val_accuracy'])\n",
    "\n",
    "# plt.axis(ymin=0.4, ymax=1)\n",
    "plt.grid()\n",
    "\n",
    "plt.title('AlexNet (Input: 512x512) Model Accuracy for COVID-19 Dataset')\n",
    "plt.ylabel('Accuracy')\n",
    "plt.xlabel('Epochs')\n",
    "plt.legend(['train','validation'])\n",
    "\n",
    "plt.show()"
   ]
  },
  {
   "cell_type": "code",
   "execution_count": 12,
   "metadata": {},
   "outputs": [
    {
     "name": "stdout",
     "output_type": "stream",
     "text": [
      "The highest accuracy achieved using Alexnet Model with input 512x512 is 76.99530720710754\n"
     ]
    }
   ],
   "source": [
    "max_acc = max(graph.history['val_accuracy'])\n",
    "\n",
    "print('The highest accuracy achieved using Alexnet Model with input 512x512 is',max_acc*100)"
   ]
  }
 ],
 "metadata": {
  "interpreter": {
   "hash": "80b666c07a6ca165bd4f4c9c2aef797346a64ba3bbd63991c85e4e7511a2128c"
  },
  "kernelspec": {
   "display_name": "Python 3.7.10 64-bit ('myenv': conda)",
   "language": "python",
   "name": "python3"
  },
  "language_info": {
   "codemirror_mode": {
    "name": "ipython",
    "version": 3
   },
   "file_extension": ".py",
   "mimetype": "text/x-python",
   "name": "python",
   "nbconvert_exporter": "python",
   "pygments_lexer": "ipython3",
   "version": "3.7.10"
  },
  "orig_nbformat": 4
 },
 "nbformat": 4,
 "nbformat_minor": 2
}
