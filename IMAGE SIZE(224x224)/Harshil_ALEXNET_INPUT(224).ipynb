{
 "cells": [
  {
   "cell_type": "code",
   "execution_count": 1,
   "metadata": {},
   "outputs": [],
   "source": [
    "import tensorflow as tf\n",
    "from tensorflow import keras\n",
    "import matplotlib.pyplot as plt"
   ]
  },
  {
   "cell_type": "code",
   "execution_count": 2,
   "metadata": {},
   "outputs": [],
   "source": [
    "from keras.models import Model\n",
    "from keras.layers import Input\n",
    "from keras.layers import Conv2D\n",
    "from keras.layers import MaxPooling2D, AveragePooling2D\n",
    "from keras.layers.merge import concatenate\n",
    "\n",
    "from keras.preprocessing.image import ImageDataGenerator\n",
    "from keras.layers import Flatten, Dense\n",
    "from keras.layers import Activation\n",
    "from keras.layers import BatchNormalization\n",
    "from keras.callbacks import ModelCheckpoint, EarlyStopping\n",
    "\n",
    "from tensorflow import keras\n",
    "\n",
    "from keras.models import Sequential\n",
    "from keras.layers.core import Flatten, Dense, Dropout\n",
    "from keras.layers.convolutional import Convolution2D, MaxPooling2D, ZeroPadding2D\n",
    "from tensorflow.keras.optimizers import SGD\n",
    "import cv2, numpy as np"
   ]
  },
  {
   "cell_type": "code",
   "execution_count": 3,
   "metadata": {},
   "outputs": [
    {
     "name": "stdout",
     "output_type": "stream",
     "text": [
      "Found 5171 images belonging to 3 classes.\n",
      "Found 1292 images belonging to 3 classes.\n"
     ]
    }
   ],
   "source": [
    "train_datagen_with_aug = ImageDataGenerator(rescale=1./255,\n",
    "                                   horizontal_flip=True,\n",
    "                                   shear_range=0.2,\n",
    "                                   zoom_range=[0.2,0.5],\n",
    "                                   width_shift_range = 0.3,\n",
    "                                   height_shift_range = 0.3,\n",
    "                                   validation_split=0.2)\n",
    "\n",
    "train_generator = train_datagen_with_aug.flow_from_directory(\n",
    "    r'C:\\Users\\Harshil Bhandari\\Pictures\\X-Ray Images Dataset for research project',\n",
    "    target_size=(224, 224),\n",
    "    batch_size=32,\n",
    "    # color_mode='grayscale',\n",
    "    class_mode='categorical',\n",
    "    subset='training'\n",
    "    ) # set as training data\n",
    "\n",
    "validation_generator = train_datagen_with_aug.flow_from_directory(\n",
    "    r'C:\\Users\\Harshil Bhandari\\Pictures\\X-Ray Images Dataset for research project', # same directory as training data\n",
    "    target_size=(224, 224),\n",
    "    batch_size=32,\n",
    "    # color_mode='grayscale',\n",
    "    class_mode='categorical',\n",
    "    subset='validation'\n",
    "    ) # set as validation data\n",
    "\n",
    "input_img = Input(shape=(224, 224, 3))"
   ]
  },
  {
   "cell_type": "code",
   "execution_count": 4,
   "metadata": {},
   "outputs": [],
   "source": [
    "model = keras.models.Sequential([\n",
    "    keras.layers.Conv2D(filters=96, kernel_size=(11,11), strides=(4,4), activation='relu', input_shape=(224,224,3)),\n",
    "    keras.layers.BatchNormalization(),\n",
    "    keras.layers.MaxPool2D(pool_size=(3,3), strides=(2,2)),\n",
    "    keras.layers.Conv2D(filters=256, kernel_size=(5,5), strides=(1,1), activation='relu', padding=\"same\"),\n",
    "    keras.layers.BatchNormalization(),\n",
    "    keras.layers.MaxPool2D(pool_size=(3,3), strides=(2,2)),\n",
    "    keras.layers.Conv2D(filters=384, kernel_size=(3,3), strides=(1,1), activation='relu', padding=\"same\"),\n",
    "    keras.layers.BatchNormalization(),\n",
    "    keras.layers.Conv2D(filters=384, kernel_size=(3,3), strides=(1,1), activation='relu', padding=\"same\"),\n",
    "    keras.layers.BatchNormalization(),\n",
    "    keras.layers.Conv2D(filters=256, kernel_size=(3,3), strides=(1,1), activation='relu', padding=\"same\"),\n",
    "    keras.layers.BatchNormalization(),\n",
    "    keras.layers.MaxPool2D(pool_size=(3,3), strides=(2,2)),\n",
    "    keras.layers.Flatten(),\n",
    "    keras.layers.Dense(4096, activation='relu'),\n",
    "    keras.layers.Dropout(0.5),\n",
    "    keras.layers.Dense(4096, activation='relu'),\n",
    "    keras.layers.Dropout(0.5),\n",
    "    keras.layers.Dense(3, activation='softmax')\n",
    "])"
   ]
  },
  {
   "cell_type": "code",
   "execution_count": 5,
   "metadata": {},
   "outputs": [
    {
     "name": "stdout",
     "output_type": "stream",
     "text": [
      "Model: \"sequential\"\n",
      "_________________________________________________________________\n",
      "Layer (type)                 Output Shape              Param #   \n",
      "=================================================================\n",
      "conv2d (Conv2D)              (None, 54, 54, 96)        34944     \n",
      "_________________________________________________________________\n",
      "batch_normalization (BatchNo (None, 54, 54, 96)        384       \n",
      "_________________________________________________________________\n",
      "max_pooling2d (MaxPooling2D) (None, 26, 26, 96)        0         \n",
      "_________________________________________________________________\n",
      "conv2d_1 (Conv2D)            (None, 26, 26, 256)       614656    \n",
      "_________________________________________________________________\n",
      "batch_normalization_1 (Batch (None, 26, 26, 256)       1024      \n",
      "_________________________________________________________________\n",
      "max_pooling2d_1 (MaxPooling2 (None, 12, 12, 256)       0         \n",
      "_________________________________________________________________\n",
      "conv2d_2 (Conv2D)            (None, 12, 12, 384)       885120    \n",
      "_________________________________________________________________\n",
      "batch_normalization_2 (Batch (None, 12, 12, 384)       1536      \n",
      "_________________________________________________________________\n",
      "conv2d_3 (Conv2D)            (None, 12, 12, 384)       1327488   \n",
      "_________________________________________________________________\n",
      "batch_normalization_3 (Batch (None, 12, 12, 384)       1536      \n",
      "_________________________________________________________________\n",
      "conv2d_4 (Conv2D)            (None, 12, 12, 256)       884992    \n",
      "_________________________________________________________________\n",
      "batch_normalization_4 (Batch (None, 12, 12, 256)       1024      \n",
      "_________________________________________________________________\n",
      "max_pooling2d_2 (MaxPooling2 (None, 5, 5, 256)         0         \n",
      "_________________________________________________________________\n",
      "flatten (Flatten)            (None, 6400)              0         \n",
      "_________________________________________________________________\n",
      "dense (Dense)                (None, 4096)              26218496  \n",
      "_________________________________________________________________\n",
      "dropout (Dropout)            (None, 4096)              0         \n",
      "_________________________________________________________________\n",
      "dense_1 (Dense)              (None, 4096)              16781312  \n",
      "_________________________________________________________________\n",
      "dropout_1 (Dropout)          (None, 4096)              0         \n",
      "_________________________________________________________________\n",
      "dense_2 (Dense)              (None, 3)                 12291     \n",
      "=================================================================\n",
      "Total params: 46,764,803\n",
      "Trainable params: 46,762,051\n",
      "Non-trainable params: 2,752\n",
      "_________________________________________________________________\n"
     ]
    }
   ],
   "source": [
    "model.compile(loss='categorical_crossentropy', optimizer=tf.optimizers.SGD(lr=0.001), metrics=['accuracy'])\n",
    "model.summary()"
   ]
  },
  {
   "cell_type": "code",
   "execution_count": 6,
   "metadata": {},
   "outputs": [
    {
     "name": "stdout",
     "output_type": "stream",
     "text": [
      "Epoch 1/25\n",
      "162/162 [==============================] - 790s 5s/step - loss: 1.6418 - accuracy: 0.4804 - val_loss: 1.4443 - val_accuracy: 0.3870\n",
      "Epoch 2/25\n",
      "162/162 [==============================] - 686s 4s/step - loss: 1.2910 - accuracy: 0.5347 - val_loss: 1.8976 - val_accuracy: 0.4280\n",
      "Epoch 3/25\n",
      "162/162 [==============================] - 663s 4s/step - loss: 1.1289 - accuracy: 0.5811 - val_loss: 1.3987 - val_accuracy: 0.4977\n",
      "Epoch 4/25\n",
      "162/162 [==============================] - 662s 4s/step - loss: 1.0431 - accuracy: 0.6092 - val_loss: 1.3240 - val_accuracy: 0.4628\n",
      "Epoch 5/25\n",
      "162/162 [==============================] - 641s 4s/step - loss: 1.0012 - accuracy: 0.6063 - val_loss: 2.4689 - val_accuracy: 0.2477\n",
      "Epoch 6/25\n",
      "162/162 [==============================] - 592s 4s/step - loss: 0.9338 - accuracy: 0.6215 - val_loss: 1.5814 - val_accuracy: 0.4280\n",
      "Epoch 7/25\n",
      "162/162 [==============================] - 592s 4s/step - loss: 0.8942 - accuracy: 0.6455 - val_loss: 0.9660 - val_accuracy: 0.5844\n",
      "Epoch 8/25\n",
      "162/162 [==============================] - 600s 4s/step - loss: 0.8771 - accuracy: 0.6478 - val_loss: 1.7404 - val_accuracy: 0.3692\n",
      "Epoch 9/25\n",
      "162/162 [==============================] - 606s 4s/step - loss: 0.8325 - accuracy: 0.6765 - val_loss: 1.9141 - val_accuracy: 0.4211\n",
      "Epoch 10/25\n",
      "162/162 [==============================] - 580s 4s/step - loss: 0.8056 - accuracy: 0.6712 - val_loss: 1.1668 - val_accuracy: 0.5844\n",
      "Epoch 11/25\n",
      "162/162 [==============================] - 588s 4s/step - loss: 0.8033 - accuracy: 0.6716 - val_loss: 1.8898 - val_accuracy: 0.3963\n",
      "Epoch 12/25\n",
      "162/162 [==============================] - 580s 4s/step - loss: 0.7853 - accuracy: 0.6794 - val_loss: 4.0266 - val_accuracy: 0.2337\n",
      "Epoch 13/25\n",
      "162/162 [==============================] - 584s 4s/step - loss: 0.8026 - accuracy: 0.6813 - val_loss: 3.0278 - val_accuracy: 0.2655\n",
      "Epoch 14/25\n",
      "162/162 [==============================] - 581s 4s/step - loss: 0.7877 - accuracy: 0.6827 - val_loss: 0.8051 - val_accuracy: 0.6385\n",
      "Epoch 15/25\n",
      "162/162 [==============================] - 579s 4s/step - loss: 0.7749 - accuracy: 0.6803 - val_loss: 1.2477 - val_accuracy: 0.4234\n",
      "Epoch 16/25\n",
      "162/162 [==============================] - 580s 4s/step - loss: 0.7702 - accuracy: 0.6856 - val_loss: 3.5007 - val_accuracy: 0.2570\n",
      "Epoch 17/25\n",
      "162/162 [==============================] - 653s 4s/step - loss: 0.7568 - accuracy: 0.6904 - val_loss: 3.2391 - val_accuracy: 0.2802\n",
      "Epoch 18/25\n",
      "162/162 [==============================] - 572s 4s/step - loss: 0.7511 - accuracy: 0.7003 - val_loss: 1.3427 - val_accuracy: 0.4350\n",
      "Epoch 19/25\n",
      "162/162 [==============================] - 575s 4s/step - loss: 0.7295 - accuracy: 0.7055 - val_loss: 2.3005 - val_accuracy: 0.3599\n",
      "Epoch 20/25\n",
      "162/162 [==============================] - 571s 4s/step - loss: 0.7417 - accuracy: 0.6985 - val_loss: 4.4124 - val_accuracy: 0.2841\n",
      "Epoch 21/25\n",
      "162/162 [==============================] - 573s 4s/step - loss: 0.7559 - accuracy: 0.6908 - val_loss: 1.9665 - val_accuracy: 0.3483\n",
      "Epoch 22/25\n",
      "162/162 [==============================] - 570s 4s/step - loss: 0.7538 - accuracy: 0.6931 - val_loss: 1.8258 - val_accuracy: 0.3351\n",
      "Epoch 23/25\n",
      "162/162 [==============================] - 572s 4s/step - loss: 0.7313 - accuracy: 0.6995 - val_loss: 1.8224 - val_accuracy: 0.2910\n",
      "Epoch 24/25\n",
      "162/162 [==============================] - 573s 4s/step - loss: 0.7425 - accuracy: 0.6954 - val_loss: 1.2475 - val_accuracy: 0.5472\n",
      "Epoch 25/25\n",
      "162/162 [==============================] - 574s 4s/step - loss: 0.7087 - accuracy: 0.7120 - val_loss: 2.5596 - val_accuracy: 0.3320\n"
     ]
    },
    {
     "data": {
      "text/plain": [
       "<tensorflow.python.keras.callbacks.History at 0x2c1977e3348>"
      ]
     },
     "execution_count": 6,
     "metadata": {},
     "output_type": "execute_result"
    }
   ],
   "source": [
    "graph = model.fit(train_generator, epochs=25, validation_data=validation_generator)\n",
    "graph"
   ]
  },
  {
   "cell_type": "code",
   "execution_count": 10,
   "metadata": {},
   "outputs": [
    {
     "data": {
      "image/png": "[encoded data removed]",
      "text/plain": [
       "<Figure size 432x288 with 1 Axes>"
      ]
     },
     "metadata": {
      "needs_background": "light"
     },
     "output_type": "display_data"
    }
   ],
   "source": [
    "import matplotlib.pyplot as plt\n",
    "\n",
    "fig1 = plt.gcf()\n",
    "\n",
    "plt.plot(graph.history['accuracy'])\n",
    "plt.plot(graph.history['val_accuracy'])\n",
    "\n",
    "# plt.axis(ymin=0.4, ymax=1)\n",
    "plt.grid()\n",
    "\n",
    "plt.title('AlexNet (Input: 224x224) Model Accuracy for COVID-19 Dataset')\n",
    "plt.ylabel('Accuracy')\n",
    "plt.xlabel('Epochs')\n",
    "plt.legend(['train','validation'])\n",
    "\n",
    "plt.show()"
   ]
  },
  {
   "cell_type": "code",
   "execution_count": 9,
   "metadata": {},
   "outputs": [
    {
     "name": "stdout",
     "output_type": "stream",
     "text": [
      "The highest accuracy achieved using Alexnet Model with input 224x224 is 63.85449171066284\n"
     ]
    }
   ],
   "source": [
    "max_acc = max(graph.history['val_accuracy'])\n",
    "\n",
    "print('The highest accuracy achieved using Alexnet Model with input 224x224 is',max_acc*100)"
   ]
  }
 ],
 "metadata": {
  "interpreter": {
   "hash": "80b666c07a6ca165bd4f4c9c2aef797346a64ba3bbd63991c85e4e7511a2128c"
  },
  "kernelspec": {
   "display_name": "Python 3.7.10 64-bit ('myenv': conda)",
   "language": "python",
   "name": "python3"
  },
  "language_info": {
   "codemirror_mode": {
    "name": "ipython",
    "version": 3
   },
   "file_extension": ".py",
   "mimetype": "text/x-python",
   "name": "python",
   "nbconvert_exporter": "python",
   "pygments_lexer": "ipython3",
   "version": "3.7.10"
  },
  "orig_nbformat": 4
 },
 "nbformat": 4,
 "nbformat_minor": 2
}
