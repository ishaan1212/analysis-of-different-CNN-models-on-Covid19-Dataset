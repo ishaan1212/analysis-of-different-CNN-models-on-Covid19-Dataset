{
 "cells": [
  {
   "cell_type": "code",
   "execution_count": 1,
   "metadata": {},
   "outputs": [],
   "source": [
    "from keras.models import Model\n",
    "from keras.layers import Input\n",
    "from keras.layers import Conv2D\n",
    "from keras.layers import MaxPooling2D, AveragePooling2D\n",
    "from keras.layers.merge import concatenate\n",
    "\n",
    "from keras.preprocessing.image import ImageDataGenerator\n",
    "from keras.layers import Flatten, Dense\n",
    "from keras.layers import Activation\n",
    "from keras.layers import BatchNormalization\n",
    "from keras.callbacks import ModelCheckpoint, EarlyStopping\n",
    "\n",
    "from tensorflow import keras\n",
    "\n",
    "from keras.models import Sequential\n",
    "from keras.layers.core import Flatten, Dense, Dropout\n",
    "from keras.layers.convolutional import Convolution2D, MaxPooling2D, ZeroPadding2D\n",
    "from tensorflow.keras.optimizers import SGD\n",
    "import cv2, numpy as np"
   ]
  },
  {
   "cell_type": "code",
   "execution_count": 2,
   "metadata": {},
   "outputs": [
    {
     "name": "stdout",
     "output_type": "stream",
     "text": [
      "Found 5121 images belonging to 3 classes.\n",
      "Found 1278 images belonging to 3 classes.\n"
     ]
    }
   ],
   "source": [
    "train_datagen_with_aug = ImageDataGenerator(rescale=1./255,\n",
    "                                   horizontal_flip=True,\n",
    "                                   shear_range=0.2,\n",
    "                                   zoom_range=[0.2,0.5],\n",
    "                                   width_shift_range = 0.3,\n",
    "                                   height_shift_range = 0.3,\n",
    "                                   validation_split=0.2)\n",
    "\n",
    "train_generator = train_datagen_with_aug.flow_from_directory(\n",
    "    r'D:\\My Work\\Baranidharan Sir Research\\cnn_xrays_images',\n",
    "    target_size=(331, 331),\n",
    "    batch_size=32,\n",
    "    # color_mode='grayscale',\n",
    "    class_mode='categorical',\n",
    "    subset='training'\n",
    "    ) # set as training data\n",
    "\n",
    "validation_generator = train_datagen_with_aug.flow_from_directory(\n",
    "    r'D:\\My Work\\Baranidharan Sir Research\\cnn_xrays_images', # same directory as training data\n",
    "    target_size=(331, 331),\n",
    "    batch_size=32,\n",
    "    # color_mode='grayscale',\n",
    "    class_mode='categorical',\n",
    "    subset='validation'\n",
    "    ) # set as validation data\n",
    "\n",
    "input_img = Input(shape=(331, 331, 3))"
   ]
  },
  {
   "cell_type": "code",
   "execution_count": 3,
   "metadata": {},
   "outputs": [
    {
     "name": "stdout",
     "output_type": "stream",
     "text": [
      "5121\n"
     ]
    }
   ],
   "source": [
    "print(train_generator.samples)"
   ]
  },
  {
   "cell_type": "code",
   "execution_count": 4,
   "metadata": {},
   "outputs": [],
   "source": [
    "from keras.applications import densenet\n",
    "\n",
    "DENSENET_169 = Sequential()\n",
    "\n",
    "densenet169_model = keras.applications.densenet.DenseNet169(\n",
    "    include_top=False, weights='imagenet',\n",
    "    input_shape=(331,331,3), pooling=('max'), classes=3\n",
    ")"
   ]
  },
  {
   "cell_type": "code",
   "execution_count": 5,
   "metadata": {},
   "outputs": [
    {
     "name": "stdout",
     "output_type": "stream",
     "text": [
      "Model: \"sequential\"\n",
      "_________________________________________________________________\n",
      "Layer (type)                 Output Shape              Param #   \n",
      "=================================================================\n",
      "densenet169 (Functional)     (None, 1664)              12642880  \n",
      "_________________________________________________________________\n",
      "flatten (Flatten)            (None, 1664)              0         \n",
      "_________________________________________________________________\n",
      "dense (Dense)                (None, 512)               852480    \n",
      "_________________________________________________________________\n",
      "dense_1 (Dense)              (None, 3)                 1539      \n",
      "=================================================================\n",
      "Total params: 13,496,899\n",
      "Trainable params: 854,019\n",
      "Non-trainable params: 12,642,880\n",
      "_________________________________________________________________\n",
      "Epoch 1/25\n",
      "160/160 [==============================] - 940s 6s/step - loss: 1.1471 - accuracy: 0.6557 - val_loss: 0.5349 - val_accuracy: 0.7973\n",
      "Epoch 2/25\n",
      "160/160 [==============================] - 951s 6s/step - loss: 0.6166 - accuracy: 0.7526 - val_loss: 0.5403 - val_accuracy: 0.7739\n",
      "Epoch 3/25\n",
      "160/160 [==============================] - 927s 6s/step - loss: 0.5392 - accuracy: 0.8004 - val_loss: 0.4396 - val_accuracy: 0.8114\n",
      "Epoch 4/25\n",
      "160/160 [==============================] - 904s 6s/step - loss: 0.5145 - accuracy: 0.8027 - val_loss: 0.5419 - val_accuracy: 0.7692\n",
      "Epoch 5/25\n",
      "160/160 [==============================] - 909s 6s/step - loss: 0.5279 - accuracy: 0.7996 - val_loss: 0.4609 - val_accuracy: 0.8083\n",
      "Epoch 6/25\n",
      "160/160 [==============================] - 906s 6s/step - loss: 0.5105 - accuracy: 0.8094 - val_loss: 0.4121 - val_accuracy: 0.8263\n",
      "Epoch 7/25\n",
      "160/160 [==============================] - 906s 6s/step - loss: 0.4862 - accuracy: 0.8143 - val_loss: 0.4655 - val_accuracy: 0.8279\n",
      "Epoch 8/25\n",
      "160/160 [==============================] - 908s 6s/step - loss: 0.4764 - accuracy: 0.8249 - val_loss: 0.4796 - val_accuracy: 0.8122\n",
      "Epoch 9/25\n",
      "160/160 [==============================] - 907s 6s/step - loss: 0.4825 - accuracy: 0.8194 - val_loss: 0.4067 - val_accuracy: 0.8419\n",
      "Epoch 10/25\n",
      "160/160 [==============================] - 905s 6s/step - loss: 0.4510 - accuracy: 0.8310 - val_loss: 0.4091 - val_accuracy: 0.8552\n",
      "Epoch 11/25\n",
      "160/160 [==============================] - 908s 6s/step - loss: 0.4623 - accuracy: 0.8273 - val_loss: 0.4530 - val_accuracy: 0.8349\n",
      "Epoch 12/25\n",
      "160/160 [==============================] - 908s 6s/step - loss: 0.4664 - accuracy: 0.8267 - val_loss: 0.3885 - val_accuracy: 0.8521\n",
      "Epoch 13/25\n",
      "160/160 [==============================] - 910s 6s/step - loss: 0.4595 - accuracy: 0.8330 - val_loss: 0.4509 - val_accuracy: 0.8122\n",
      "Epoch 14/25\n",
      "160/160 [==============================] - 910s 6s/step - loss: 0.4827 - accuracy: 0.8151 - val_loss: 0.4267 - val_accuracy: 0.8333\n",
      "Epoch 15/25\n",
      "160/160 [==============================] - 912s 6s/step - loss: 0.4521 - accuracy: 0.8290 - val_loss: 0.3556 - val_accuracy: 0.8631\n",
      "Epoch 16/25\n",
      "160/160 [==============================] - 907s 6s/step - loss: 0.4681 - accuracy: 0.8235 - val_loss: 0.4647 - val_accuracy: 0.8294\n",
      "Epoch 17/25\n",
      "160/160 [==============================] - 905s 6s/step - loss: 0.4473 - accuracy: 0.8359 - val_loss: 0.3691 - val_accuracy: 0.8654\n",
      "Epoch 18/25\n",
      "160/160 [==============================] - 907s 6s/step - loss: 0.4389 - accuracy: 0.8397 - val_loss: 0.3636 - val_accuracy: 0.8545\n",
      "Epoch 19/25\n",
      "160/160 [==============================] - 909s 6s/step - loss: 0.4480 - accuracy: 0.8395 - val_loss: 0.3788 - val_accuracy: 0.8560\n",
      "Epoch 20/25\n",
      "160/160 [==============================] - 988s 6s/step - loss: 0.4487 - accuracy: 0.8361 - val_loss: 0.4127 - val_accuracy: 0.8498\n",
      "Epoch 21/25\n",
      "160/160 [==============================] - 920s 6s/step - loss: 0.4379 - accuracy: 0.8363 - val_loss: 0.3836 - val_accuracy: 0.8537\n",
      "Epoch 22/25\n",
      "160/160 [==============================] - 921s 6s/step - loss: 0.4258 - accuracy: 0.8391 - val_loss: 0.3433 - val_accuracy: 0.8599\n",
      "Epoch 23/25\n",
      "160/160 [==============================] - 919s 6s/step - loss: 0.4239 - accuracy: 0.8406 - val_loss: 0.3614 - val_accuracy: 0.8631\n",
      "Epoch 24/25\n",
      "160/160 [==============================] - 920s 6s/step - loss: 0.4381 - accuracy: 0.8371 - val_loss: 0.4161 - val_accuracy: 0.8505\n",
      "Epoch 25/25\n",
      "160/160 [==============================] - 921s 6s/step - loss: 0.4220 - accuracy: 0.8467 - val_loss: 0.3638 - val_accuracy: 0.8654\n"
     ]
    },
    {
     "data": {
      "text/plain": [
       "<tensorflow.python.keras.callbacks.History at 0x1a496420b48>"
      ]
     },
     "execution_count": 5,
     "metadata": {},
     "output_type": "execute_result"
    }
   ],
   "source": [
    "for layer in densenet169_model.layers:\n",
    "    layer.trainable = False\n",
    "    \n",
    "DENSENET_169.add(densenet169_model)\n",
    "DENSENET_169.add(Flatten())\n",
    "DENSENET_169.add(Dense(512,activation='relu'))\n",
    "DENSENET_169.add(Dense(3, activation='softmax'))\n",
    "\n",
    "DENSENET_169.summary()\n",
    "\n",
    "Adam = keras.optimizers.Adam(learning_rate=0.001)\n",
    "DENSENET_169.compile(optimizer=Adam, loss='categorical_crossentropy', metrics=['accuracy'])\n",
    "\n",
    "graph = DENSENET_169.fit(train_generator, epochs=25, validation_data = validation_generator, steps_per_epoch=train_generator.samples//32)\n",
    "\n",
    "graph"
   ]
  },
  {
   "cell_type": "code",
   "execution_count": 13,
   "metadata": {},
   "outputs": [
    {
     "data": {
      "text/plain": [
       "<Figure size 432x288 with 0 Axes>"
      ]
     },
     "metadata": {},
     "output_type": "display_data"
    },
    {
     "data": {
      "image/png": "[encoded data removed]",
      "text/plain": [
       "<Figure size 720x360 with 1 Axes>"
      ]
     },
     "metadata": {
      "needs_background": "light"
     },
     "output_type": "display_data"
    }
   ],
   "source": [
    "import matplotlib.pyplot as plt\n",
    "\n",
    "fig1 = plt.gcf()\n",
    "\n",
    "plt.figure(figsize=(10,5))\n",
    "\n",
    "plt.plot(graph.history['accuracy'])\n",
    "plt.plot(graph.history['val_accuracy'])\n",
    "\n",
    "# plt.axis(ymin=0.4, ymax=1)\n",
    "plt.grid()\n",
    "\n",
    "plt.title('DENSENET169 for COVID-19 Dataset')\n",
    "\n",
    "plt.ylabel('Accuracy')\n",
    "plt.xlabel('Epochs')\n",
    "plt.legend(['train','validation'])\n",
    "\n",
    "plt.show()"
   ]
  },
  {
   "cell_type": "code",
   "execution_count": 33,
   "metadata": {},
   "outputs": [
    {
     "name": "stdout",
     "output_type": "stream",
     "text": [
      "The maximum validation accuracy achieved using DENSENET169 is 86.54147386550903\n"
     ]
    }
   ],
   "source": [
    "max_acc = max(graph.history['val_accuracy'])\n",
    "\n",
    "print('The maximum validation accuracy achieved using DENSENET169 is',max_acc*100)"
   ]
  }
 ],
 "metadata": {
  "interpreter": {
   "hash": "80b666c07a6ca165bd4f4c9c2aef797346a64ba3bbd63991c85e4e7511a2128c"
  },
  "kernelspec": {
   "display_name": "Python 3.7.10 64-bit ('myenv': conda)",
   "language": "python",
   "name": "python3"
  },
  "language_info": {
   "codemirror_mode": {
    "name": "ipython",
    "version": 3
   },
   "file_extension": ".py",
   "mimetype": "text/x-python",
   "name": "python",
   "nbconvert_exporter": "python",
   "pygments_lexer": "ipython3",
   "version": "3.7.10"
  },
  "orig_nbformat": 4
 },
 "nbformat": 4,
 "nbformat_minor": 2
}
