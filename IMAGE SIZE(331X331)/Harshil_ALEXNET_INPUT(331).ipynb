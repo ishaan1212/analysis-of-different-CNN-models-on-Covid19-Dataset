{
 "cells": [
  {
   "cell_type": "code",
   "execution_count": 1,
   "metadata": {},
   "outputs": [],
   "source": [
    "import tensorflow as tf\n",
    "from tensorflow import keras\n",
    "import matplotlib.pyplot as plt"
   ]
  },
  {
   "cell_type": "code",
   "execution_count": 2,
   "metadata": {},
   "outputs": [],
   "source": [
    "from keras.models import Model\n",
    "from keras.layers import Input\n",
    "from keras.layers import Conv2D\n",
    "from keras.layers import MaxPooling2D, AveragePooling2D\n",
    "from keras.layers.merge import concatenate\n",
    "\n",
    "from keras.preprocessing.image import ImageDataGenerator\n",
    "from keras.layers import Flatten, Dense\n",
    "from keras.layers import Activation\n",
    "from keras.layers import BatchNormalization\n",
    "from keras.callbacks import ModelCheckpoint, EarlyStopping\n",
    "\n",
    "from tensorflow import keras\n",
    "\n",
    "from keras.models import Sequential\n",
    "from keras.layers.core import Flatten, Dense, Dropout\n",
    "from keras.layers.convolutional import Convolution2D, MaxPooling2D, ZeroPadding2D\n",
    "from tensorflow.keras.optimizers import SGD\n",
    "import cv2, numpy as np"
   ]
  },
  {
   "cell_type": "code",
   "execution_count": 3,
   "metadata": {},
   "outputs": [
    {
     "name": "stdout",
     "output_type": "stream",
     "text": [
      "Found 5121 images belonging to 3 classes.\n",
      "Found 1278 images belonging to 3 classes.\n"
     ]
    }
   ],
   "source": [
    "train_datagen_with_aug = ImageDataGenerator(rescale=1./255,\n",
    "                                   horizontal_flip=True,\n",
    "                                   shear_range=0.2,\n",
    "                                   zoom_range=[0.2,0.5],\n",
    "                                   width_shift_range = 0.3,\n",
    "                                   height_shift_range = 0.3,\n",
    "                                   validation_split=0.2)\n",
    "\n",
    "train_generator = train_datagen_with_aug.flow_from_directory(\n",
    "    r'D:\\My Work\\Baranidharan Sir Research\\cnn_xrays_images',\n",
    "    target_size=(331, 331),\n",
    "    batch_size=32,\n",
    "    # color_mode='grayscale',\n",
    "    class_mode='categorical',\n",
    "    subset='training'\n",
    "    ) # set as training data\n",
    "\n",
    "validation_generator = train_datagen_with_aug.flow_from_directory(\n",
    "    r'D:\\My Work\\Baranidharan Sir Research\\cnn_xrays_images', # same directory as training data\n",
    "    target_size=(331, 331),\n",
    "    batch_size=32,\n",
    "    # color_mode='grayscale',\n",
    "    class_mode='categorical',\n",
    "    subset='validation'\n",
    "    ) # set as validation data\n",
    "\n",
    "input_img = Input(shape=(331, 331, 3))"
   ]
  },
  {
   "cell_type": "code",
   "execution_count": 4,
   "metadata": {},
   "outputs": [],
   "source": [
    "model = keras.models.Sequential([\n",
    "    keras.layers.Conv2D(filters=96, kernel_size=(11,11), strides=(4,4), activation='relu', input_shape=(331,331,3)),\n",
    "    keras.layers.BatchNormalization(),\n",
    "    keras.layers.MaxPool2D(pool_size=(3,3), strides=(2,2)),\n",
    "    keras.layers.Conv2D(filters=256, kernel_size=(5,5), strides=(1,1), activation='relu', padding=\"same\"),\n",
    "    keras.layers.BatchNormalization(),\n",
    "    keras.layers.MaxPool2D(pool_size=(3,3), strides=(2,2)),\n",
    "    keras.layers.Conv2D(filters=384, kernel_size=(3,3), strides=(1,1), activation='relu', padding=\"same\"),\n",
    "    keras.layers.BatchNormalization(),\n",
    "    keras.layers.Conv2D(filters=384, kernel_size=(3,3), strides=(1,1), activation='relu', padding=\"same\"),\n",
    "    keras.layers.BatchNormalization(),\n",
    "    keras.layers.Conv2D(filters=256, kernel_size=(3,3), strides=(1,1), activation='relu', padding=\"same\"),\n",
    "    keras.layers.BatchNormalization(),\n",
    "    keras.layers.MaxPool2D(pool_size=(3,3), strides=(2,2)),\n",
    "    keras.layers.Flatten(),\n",
    "    keras.layers.Dense(4096, activation='relu'),\n",
    "    keras.layers.Dropout(0.5),\n",
    "    keras.layers.Dense(4096, activation='relu'),\n",
    "    keras.layers.Dropout(0.5),\n",
    "    keras.layers.Dense(3, activation='softmax')\n",
    "])"
   ]
  },
  {
   "cell_type": "code",
   "execution_count": 5,
   "metadata": {},
   "outputs": [
    {
     "name": "stdout",
     "output_type": "stream",
     "text": [
      "Model: \"sequential\"\n",
      "_________________________________________________________________\n",
      "Layer (type)                 Output Shape              Param #   \n",
      "=================================================================\n",
      "conv2d (Conv2D)              (None, 81, 81, 96)        34944     \n",
      "_________________________________________________________________\n",
      "batch_normalization (BatchNo (None, 81, 81, 96)        384       \n",
      "_________________________________________________________________\n",
      "max_pooling2d (MaxPooling2D) (None, 40, 40, 96)        0         \n",
      "_________________________________________________________________\n",
      "conv2d_1 (Conv2D)            (None, 40, 40, 256)       614656    \n",
      "_________________________________________________________________\n",
      "batch_normalization_1 (Batch (None, 40, 40, 256)       1024      \n",
      "_________________________________________________________________\n",
      "max_pooling2d_1 (MaxPooling2 (None, 19, 19, 256)       0         \n",
      "_________________________________________________________________\n",
      "conv2d_2 (Conv2D)            (None, 19, 19, 384)       885120    \n",
      "_________________________________________________________________\n",
      "batch_normalization_2 (Batch (None, 19, 19, 384)       1536      \n",
      "_________________________________________________________________\n",
      "conv2d_3 (Conv2D)            (None, 19, 19, 384)       1327488   \n",
      "_________________________________________________________________\n",
      "batch_normalization_3 (Batch (None, 19, 19, 384)       1536      \n",
      "_________________________________________________________________\n",
      "conv2d_4 (Conv2D)            (None, 19, 19, 256)       884992    \n",
      "_________________________________________________________________\n",
      "batch_normalization_4 (Batch (None, 19, 19, 256)       1024      \n",
      "_________________________________________________________________\n",
      "max_pooling2d_2 (MaxPooling2 (None, 9, 9, 256)         0         \n",
      "_________________________________________________________________\n",
      "flatten (Flatten)            (None, 20736)             0         \n",
      "_________________________________________________________________\n",
      "dense (Dense)                (None, 4096)              84938752  \n",
      "_________________________________________________________________\n",
      "dropout (Dropout)            (None, 4096)              0         \n",
      "_________________________________________________________________\n",
      "dense_1 (Dense)              (None, 4096)              16781312  \n",
      "_________________________________________________________________\n",
      "dropout_1 (Dropout)          (None, 4096)              0         \n",
      "_________________________________________________________________\n",
      "dense_2 (Dense)              (None, 3)                 12291     \n",
      "=================================================================\n",
      "Total params: 105,485,059\n",
      "Trainable params: 105,482,307\n",
      "Non-trainable params: 2,752\n",
      "_________________________________________________________________\n"
     ]
    }
   ],
   "source": [
    "model.compile(loss='categorical_crossentropy', optimizer=tf.optimizers.SGD(lr=0.001), metrics=['accuracy'])\n",
    "model.summary()"
   ]
  },
  {
   "cell_type": "code",
   "execution_count": 6,
   "metadata": {},
   "outputs": [
    {
     "name": "stdout",
     "output_type": "stream",
     "text": [
      "Epoch 1/25\n",
      "161/161 [==============================] - 720s 4s/step - loss: 1.7080 - accuracy: 0.4987 - val_loss: 1.7611 - val_accuracy: 0.3905\n",
      "Epoch 2/25\n",
      "161/161 [==============================] - 683s 4s/step - loss: 1.2573 - accuracy: 0.5786 - val_loss: 1.9620 - val_accuracy: 0.4014\n",
      "Epoch 3/25\n",
      "161/161 [==============================] - 690s 4s/step - loss: 1.1234 - accuracy: 0.5954 - val_loss: 0.9424 - val_accuracy: 0.5814\n",
      "Epoch 4/25\n",
      "161/161 [==============================] - 689s 4s/step - loss: 1.0363 - accuracy: 0.6093 - val_loss: 0.9036 - val_accuracy: 0.5884\n",
      "Epoch 5/25\n",
      "161/161 [==============================] - 687s 4s/step - loss: 1.0096 - accuracy: 0.6151 - val_loss: 0.9656 - val_accuracy: 0.5743\n",
      "Epoch 6/25\n",
      "161/161 [==============================] - 685s 4s/step - loss: 0.9516 - accuracy: 0.6280 - val_loss: 1.2824 - val_accuracy: 0.4366\n",
      "Epoch 7/25\n",
      "161/161 [==============================] - 686s 4s/step - loss: 0.9002 - accuracy: 0.6389 - val_loss: 1.3490 - val_accuracy: 0.4022\n",
      "Epoch 8/25\n",
      "161/161 [==============================] - 685s 4s/step - loss: 0.8924 - accuracy: 0.6434 - val_loss: 1.2497 - val_accuracy: 0.4593\n",
      "Epoch 9/25\n",
      "161/161 [==============================] - 683s 4s/step - loss: 0.8492 - accuracy: 0.6567 - val_loss: 1.1034 - val_accuracy: 0.4726\n",
      "Epoch 10/25\n",
      "161/161 [==============================] - 682s 4s/step - loss: 0.8323 - accuracy: 0.6618 - val_loss: 0.7470 - val_accuracy: 0.6698\n",
      "Epoch 11/25\n",
      "161/161 [==============================] - 682s 4s/step - loss: 0.8235 - accuracy: 0.6626 - val_loss: 1.3891 - val_accuracy: 0.4828\n",
      "Epoch 12/25\n",
      "161/161 [==============================] - 681s 4s/step - loss: 0.7811 - accuracy: 0.6801 - val_loss: 1.2837 - val_accuracy: 0.4468\n",
      "Epoch 13/25\n",
      "161/161 [==============================] - 683s 4s/step - loss: 0.7511 - accuracy: 0.6975 - val_loss: 1.4624 - val_accuracy: 0.4178\n",
      "Epoch 14/25\n",
      "161/161 [==============================] - 682s 4s/step - loss: 0.7634 - accuracy: 0.6958 - val_loss: 1.3513 - val_accuracy: 0.4570\n",
      "Epoch 15/25\n",
      "161/161 [==============================] - 679s 4s/step - loss: 0.7340 - accuracy: 0.6975 - val_loss: 2.2393 - val_accuracy: 0.2981\n",
      "Epoch 16/25\n",
      "161/161 [==============================] - 680s 4s/step - loss: 0.7394 - accuracy: 0.7071 - val_loss: 1.4250 - val_accuracy: 0.4617\n",
      "Epoch 17/25\n",
      "161/161 [==============================] - 681s 4s/step - loss: 0.7326 - accuracy: 0.7087 - val_loss: 0.8075 - val_accuracy: 0.6228\n",
      "Epoch 18/25\n",
      "161/161 [==============================] - 680s 4s/step - loss: 0.7284 - accuracy: 0.7026 - val_loss: 1.9836 - val_accuracy: 0.4304\n",
      "Epoch 19/25\n",
      "161/161 [==============================] - 682s 4s/step - loss: 0.7082 - accuracy: 0.7126 - val_loss: 1.7929 - val_accuracy: 0.3091\n",
      "Epoch 20/25\n",
      "161/161 [==============================] - 680s 4s/step - loss: 0.7296 - accuracy: 0.7042 - val_loss: 0.9146 - val_accuracy: 0.6103\n",
      "Epoch 21/25\n",
      "161/161 [==============================] - 674s 4s/step - loss: 0.7056 - accuracy: 0.7116 - val_loss: 0.9429 - val_accuracy: 0.5665\n",
      "Epoch 22/25\n",
      "161/161 [==============================] - 592s 4s/step - loss: 0.7104 - accuracy: 0.7155 - val_loss: 0.8185 - val_accuracy: 0.6635\n",
      "Epoch 23/25\n",
      "161/161 [==============================] - 590s 4s/step - loss: 0.7091 - accuracy: 0.7110 - val_loss: 0.6843 - val_accuracy: 0.6948\n",
      "Epoch 24/25\n",
      "161/161 [==============================] - 590s 4s/step - loss: 0.7172 - accuracy: 0.7106 - val_loss: 0.7448 - val_accuracy: 0.6854\n",
      "Epoch 25/25\n",
      "161/161 [==============================] - 593s 4s/step - loss: 0.7024 - accuracy: 0.7184 - val_loss: 0.9279 - val_accuracy: 0.5743\n"
     ]
    },
    {
     "data": {
      "text/plain": [
       "<tensorflow.python.keras.callbacks.History at 0x1a0a8407348>"
      ]
     },
     "execution_count": 6,
     "metadata": {},
     "output_type": "execute_result"
    }
   ],
   "source": [
    "graph = model.fit(train_generator, epochs=25, validation_data=validation_generator)\n",
    "graph"
   ]
  },
  {
   "cell_type": "code",
   "execution_count": 7,
   "metadata": {},
   "outputs": [
    {
     "data": {
      "image/png": "[encoded data removed]",
      "text/plain": [
       "<Figure size 432x288 with 1 Axes>"
      ]
     },
     "metadata": {
      "needs_background": "light"
     },
     "output_type": "display_data"
    }
   ],
   "source": [
    "import matplotlib.pyplot as plt\n",
    "\n",
    "fig1 = plt.gcf()\n",
    "\n",
    "plt.plot(graph.history['accuracy'])\n",
    "plt.plot(graph.history['val_accuracy'])\n",
    "\n",
    "# plt.axis(ymin=0.4, ymax=1)\n",
    "plt.grid()\n",
    "\n",
    "plt.title('AlexNet (Input: 331x331) Model Accuracy for COVID-19 Dataset')\n",
    "plt.ylabel('Accuracy')\n",
    "plt.xlabel('Epochs')\n",
    "plt.legend(['train','validation'])\n",
    "\n",
    "plt.show()"
   ]
  },
  {
   "cell_type": "code",
   "execution_count": 9,
   "metadata": {},
   "outputs": [
    {
     "name": "stdout",
     "output_type": "stream",
     "text": [
      "The highest accuracy achieved using Alexnet Model with input 331x331 is 69.48356628417969\n"
     ]
    }
   ],
   "source": [
    "max_acc = max(graph.history['val_accuracy'])\n",
    "\n",
    "print('The highest accuracy achieved using Alexnet Model with input 331x331 is',max_acc*100)"
   ]
  }
 ],
 "metadata": {
  "interpreter": {
   "hash": "80b666c07a6ca165bd4f4c9c2aef797346a64ba3bbd63991c85e4e7511a2128c"
  },
  "kernelspec": {
   "display_name": "Python 3.7.10 64-bit ('myenv': conda)",
   "language": "python",
   "name": "python3"
  },
  "language_info": {
   "codemirror_mode": {
    "name": "ipython",
    "version": 3
   },
   "file_extension": ".py",
   "mimetype": "text/x-python",
   "name": "python",
   "nbconvert_exporter": "python",
   "pygments_lexer": "ipython3",
   "version": "3.7.10"
  },
  "orig_nbformat": 4
 },
 "nbformat": 4,
 "nbformat_minor": 2
}
