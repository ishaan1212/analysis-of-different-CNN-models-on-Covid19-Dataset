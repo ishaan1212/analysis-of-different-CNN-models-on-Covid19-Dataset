{
  "cells": [
    {
      "cell_type": "markdown",
      "metadata": {
        "id": "1mVsXLsGa0gS"
      },
      "source": [
        "## Testing GPU configuration (CuDNN)"
      ]
    },
    {
      "cell_type": "code",
      "execution_count": 1,
      "metadata": {
        "id": "JQcHOOtFa0gc"
      },
      "outputs": [],
      "source": [
        "import tensorflow as tf\n",
        "from tensorflow import keras"
      ]
    },
    {
      "cell_type": "code",
      "execution_count": 2,
      "metadata": {
        "colab": {
          "base_uri": "https://localhost:8080/"
        },
        "id": "OwGkX7uXa0gf",
        "outputId": "1d8d7ac4-5440-4a0f-d9e6-d4875af7ae09"
      },
      "outputs": [
        {
          "name": "stdout",
          "output_type": "stream",
          "text": [
            "Number of GPUs: 0\n"
          ]
        }
      ],
      "source": [
        "print('Number of GPUs:', len(tf.config.experimental.list_physical_devices('GPU')))"
      ]
    },
    {
      "cell_type": "code",
      "execution_count": 3,
      "metadata": {
        "colab": {
          "base_uri": "https://localhost:8080/"
        },
        "id": "OoIcao_ua0gi",
        "outputId": "3d6ba73a-0394-4fae-d4cc-4a2ff5505622"
      },
      "outputs": [
        {
          "data": {
            "text/plain": [
              "False"
            ]
          },
          "execution_count": 3,
          "metadata": {},
          "output_type": "execute_result"
        }
      ],
      "source": [
        "tf.test.is_built_with_cuda()"
      ]
    },
    {
      "cell_type": "code",
      "execution_count": 4,
      "metadata": {
        "colab": {
          "base_uri": "https://localhost:8080/"
        },
        "id": "GRgE2oLsa0gj",
        "outputId": "6b70078e-895f-4fde-e03c-6b7448ba557d"
      },
      "outputs": [
        {
          "data": {
            "text/plain": [
              "False"
            ]
          },
          "execution_count": 4,
          "metadata": {},
          "output_type": "execute_result"
        }
      ],
      "source": [
        "tf.test.is_built_with_gpu_support()"
      ]
    },
    {
      "cell_type": "markdown",
      "metadata": {
        "id": "JwhrM0AGa0gk"
      },
      "source": [
        "## Importing necessary libraries"
      ]
    },
    {
      "cell_type": "code",
      "execution_count": 5,
      "metadata": {
        "id": "lOl8kc0Ka0gl"
      },
      "outputs": [],
      "source": [
        "import keras\n",
        "from tensorflow.keras.layers import Layer\n",
        "import keras.backend as K\n",
        "import tensorflow as tf"
      ]
    },
    {
      "cell_type": "code",
      "execution_count": 6,
      "metadata": {
        "id": "-UzIPb1Ga0gm"
      },
      "outputs": [],
      "source": [
        "import cv2\n",
        "import numpy as np\n",
        "from keras.utils import np_utils\n",
        "from tensorflow.keras import initializers"
      ]
    },
    {
      "cell_type": "code",
      "execution_count": 7,
      "metadata": {
        "id": "gUdWcTWha0gn"
      },
      "outputs": [],
      "source": [
        "import math\n",
        "from tensorflow.keras.optimizers import SGD\n",
        "from keras.callbacks import LearningRateScheduler"
      ]
    },
    {
      "cell_type": "code",
      "execution_count": 8,
      "metadata": {
        "id": "tvB-KZP3a0gp"
      },
      "outputs": [],
      "source": [
        "from keras.models import Model\n",
        "from keras.layers import Input\n",
        "from keras.layers import Conv2D\n",
        "from keras.layers import MaxPooling2D, AveragePooling2D, Dropout, GlobalAveragePooling2D\n",
        "from keras.layers.merge import concatenate\n",
        "\n",
        "from keras.preprocessing.image import ImageDataGenerator\n",
        "from keras.layers import Flatten, Dense \n",
        "from keras.layers import BatchNormalization\n",
        "from keras.callbacks import ModelCheckpoint, EarlyStopping"
      ]
    },
    {
      "cell_type": "markdown",
      "metadata": {
        "id": "PcQkk9wXa0gr"
      },
      "source": [
        "## Loading the dataset"
      ]
    },
    {
      "cell_type": "code",
      "execution_count": 9,
      "metadata": {
        "colab": {
          "base_uri": "https://localhost:8080/"
        },
        "id": "1F-SBbEU5EuI",
        "outputId": "f92aeb80-4428-442b-dec0-d8d7fd15ae69"
      },
      "outputs": [],
      "source": [
        "# from google.colab import drive\n",
        "# drive.mount('/content/drive')"
      ]
    },
    {
      "cell_type": "code",
      "execution_count": 10,
      "metadata": {
        "colab": {
          "base_uri": "https://localhost:8080/"
        },
        "id": "Dgldw1Qta0gs",
        "outputId": "630533e5-076e-4726-cd0d-c6d0cb15f0f2"
      },
      "outputs": [
        {
          "name": "stdout",
          "output_type": "stream",
          "text": [
            "Found 5121 images belonging to 3 classes.\n",
            "Found 1278 images belonging to 3 classes.\n"
          ]
        }
      ],
      "source": [
        "  train_datagen_with_aug = ImageDataGenerator(rescale=1./255,\n",
        "                                   horizontal_flip=True,\n",
        "                                   shear_range=0.2,\n",
        "                                   zoom_range=[0.2,0.5],\n",
        "                                   width_shift_range = 0.3,\n",
        "                                   height_shift_range = 0.3,\n",
        "                                   validation_split=0.2)\n",
        "\n",
        "train_generator = train_datagen_with_aug.flow_from_directory(\n",
        "    r'D:\\My Work\\Baranidharan Sir Research\\cnn_xrays_images',\n",
        "    target_size=(331, 331),\n",
        "    batch_size=16,\n",
        "    color_mode='grayscale',\n",
        "    class_mode='categorical',\n",
        "    subset='training'\n",
        "    ) # set as training data\n",
        "\n",
        "validation_generator = train_datagen_with_aug.flow_from_directory(\n",
        "    r'D:\\My Work\\Baranidharan Sir Research\\cnn_xrays_images', # same directory as training data\n",
        "    target_size=(331, 331),\n",
        "    batch_size=16,\n",
        "    color_mode='grayscale',\n",
        "    class_mode='categorical',\n",
        "    subset='validation'\n",
        "    ) # set as validation data\n",
        "\n",
        "input_img = Input(shape=(331, 331, 1))"
      ]
    },
    {
      "cell_type": "markdown",
      "metadata": {
        "id": "E0fLBXy7a0gt"
      },
      "source": [
        "## Constructing the Architecture"
      ]
    },
    {
      "cell_type": "code",
      "execution_count": 11,
      "metadata": {
        "id": "mKmuJuCma0gt"
      },
      "outputs": [],
      "source": [
        "# kernel_init = keras.initializers.glorot_uniform()\n",
        "# bias_init = keras.initializers.Constant(value=0.2)"
      ]
    },
    {
      "cell_type": "code",
      "execution_count": 12,
      "metadata": {
        "id": "z3zu0r_fa0gu"
      },
      "outputs": [],
      "source": [
        "def inception_module(x,\n",
        "                     filters_1x1,\n",
        "                     filters_3x3_reduce,\n",
        "                     filters_3x3,\n",
        "                     filters_5x5_reduce,\n",
        "                     filters_5x5,\n",
        "                     filters_pool_proj,\n",
        "                     name=None):\n",
        "    \n",
        "    conv_1x1 = Conv2D(filters_1x1, (1, 1), padding='same', activation='relu')(x)\n",
        "    \n",
        "    conv_3x3 = Conv2D(filters_3x3_reduce, (1, 1), padding='same', activation='relu')(x)\n",
        "    conv_3x3 = Conv2D(filters_3x3, (3, 3), padding='same', activation='relu')(conv_3x3)\n",
        "\n",
        "    conv_5x5 = Conv2D(filters_5x5_reduce, (1, 1), padding='same', activation='relu')(x)\n",
        "    conv_5x5 = Conv2D(filters_5x5, (5, 5), padding='same', activation='relu')(conv_5x5)\n",
        "\n",
        "    pool_proj = MaxPooling2D((3, 3), strides=(1, 1), padding='same')(x)\n",
        "    pool_proj = Conv2D(filters_pool_proj, (1, 1), padding='same', activation='relu')(pool_proj)\n",
        "\n",
        "    output = concatenate([conv_1x1, conv_3x3, conv_5x5, pool_proj], axis=3, name=name)\n",
        "    \n",
        "    return output"
      ]
    },
    {
      "cell_type": "code",
      "execution_count": 13,
      "metadata": {
        "id": "QUR7yYYua0gv"
      },
      "outputs": [],
      "source": [
        "input_layer = Input(shape=(331, 331, 1))\n",
        "\n",
        "# x = Conv2D(64, (7, 7), padding='valid', strides=(2, 2), activation='relu', name='conv_1_7x7/2', kernel_initializer=kernel_init, bias_initializer=bias_init)(input_layer)\n",
        "x = Conv2D(64, (7, 7), padding='valid', strides=(2, 2), activation='relu', name='conv_1_7x7/2')(input_layer)\n",
        "x = MaxPooling2D((3, 3), padding='valid', strides=(2, 2), name='max_pool_1_3x3/2')(x)\n",
        "x = Conv2D(64, (1, 1), padding='valid', strides=(1, 1), activation='relu', name='conv_2a_3x3/1')(x)\n",
        "x = Conv2D(192, (3, 3), padding='valid', strides=(1, 1), activation='relu', name='conv_2b_3x3/1')(x)\n",
        "x = MaxPooling2D((3, 3), padding='valid', strides=(2, 2), name='max_pool_2_3x3/2')(x)\n",
        "\n",
        "x = inception_module(x,\n",
        "                     filters_1x1=64,\n",
        "                     filters_3x3_reduce=96,\n",
        "                     filters_3x3=128,\n",
        "                     filters_5x5_reduce=16,\n",
        "                     filters_5x5=32,\n",
        "                     filters_pool_proj=32,\n",
        "                     name='inception_3a')\n",
        "\n",
        "x = inception_module(x,\n",
        "                     filters_1x1=128,\n",
        "                     filters_3x3_reduce=128,\n",
        "                     filters_3x3=192,\n",
        "                     filters_5x5_reduce=32,\n",
        "                     filters_5x5=96,\n",
        "                     filters_pool_proj=64,\n",
        "                     name='inception_3b')\n",
        "\n",
        "x = MaxPooling2D((3, 3), padding='valid', strides=(2, 2), name='max_pool_3_3x3/2')(x)\n",
        "\n",
        "x = inception_module(x,\n",
        "                     filters_1x1=192,\n",
        "                     filters_3x3_reduce=96,\n",
        "                     filters_3x3=208,\n",
        "                     filters_5x5_reduce=16,\n",
        "                     filters_5x5=48,\n",
        "                     filters_pool_proj=64,\n",
        "                     name='inception_4a')\n",
        "\n",
        "\n",
        "x1 = AveragePooling2D((5, 5), strides=3)(x)\n",
        "x1 = Conv2D(128, (1, 1), padding='valid', activation='relu')(x1)\n",
        "x1 = Flatten()(x1)\n",
        "x1 = Dense(1024, activation='relu')(x1)\n",
        "x1 = Dropout(0.7)(x1)\n",
        "x1 = Dense(3, activation='softmax', name='auxilliary_output_1')(x1)\n",
        "\n",
        "x = inception_module(x,\n",
        "                     filters_1x1=160,\n",
        "                     filters_3x3_reduce=112,\n",
        "                     filters_3x3=224,\n",
        "                     filters_5x5_reduce=24,\n",
        "                     filters_5x5=64,\n",
        "                     filters_pool_proj=64,\n",
        "                     name='inception_4b')\n",
        "\n",
        "x = inception_module(x,\n",
        "                     filters_1x1=128,\n",
        "                     filters_3x3_reduce=128,\n",
        "                     filters_3x3=256,\n",
        "                     filters_5x5_reduce=24,\n",
        "                     filters_5x5=64,\n",
        "                     filters_pool_proj=64,\n",
        "                     name='inception_4c')\n",
        "\n",
        "x = inception_module(x,\n",
        "                     filters_1x1=112,\n",
        "                     filters_3x3_reduce=144,\n",
        "                     filters_3x3=288,\n",
        "                     filters_5x5_reduce=32,\n",
        "                     filters_5x5=64,\n",
        "                     filters_pool_proj=64,\n",
        "                     name='inception_4d')\n",
        "\n",
        "\n",
        "x2 = AveragePooling2D((5, 5), strides=3)(x)\n",
        "x2 = Conv2D(128, (1, 1), padding='valid', activation='relu')(x2)\n",
        "x2 = Flatten()(x2)\n",
        "x2 = Dense(1024, activation='relu')(x2)\n",
        "x2 = Dropout(0.7)(x2)\n",
        "x2 = Dense(3, activation='softmax', name='auxilliary_output_2')(x2)\n",
        "\n",
        "x = inception_module(x,\n",
        "                     filters_1x1=256,\n",
        "                     filters_3x3_reduce=160,\n",
        "                     filters_3x3=320,\n",
        "                     filters_5x5_reduce=32,\n",
        "                     filters_5x5=128,\n",
        "                     filters_pool_proj=128,\n",
        "                     name='inception_4e')\n",
        "\n",
        "x = MaxPooling2D((3, 3), padding='valid', strides=(2, 2), name='max_pool_4_3x3/2')(x)\n",
        "\n",
        "x = inception_module(x,\n",
        "                     filters_1x1=256,\n",
        "                     filters_3x3_reduce=160,\n",
        "                     filters_3x3=320,\n",
        "                     filters_5x5_reduce=32,\n",
        "                     filters_5x5=128,\n",
        "                     filters_pool_proj=128,\n",
        "                     name='inception_5a')\n",
        "\n",
        "x = inception_module(x,\n",
        "                     filters_1x1=384,\n",
        "                     filters_3x3_reduce=192,\n",
        "                     filters_3x3=384,\n",
        "                     filters_5x5_reduce=48,\n",
        "                     filters_5x5=128,\n",
        "                     filters_pool_proj=128,\n",
        "                     name='inception_5b')\n",
        "\n",
        "x = GlobalAveragePooling2D(name='avg_pool_5_3x3/1')(x)\n",
        "\n",
        "x = Dropout(0.4)(x)\n",
        "\n",
        "x = Dense(3, activation='softmax', name='output')(x)"
      ]
    },
    {
      "cell_type": "code",
      "execution_count": 14,
      "metadata": {
        "id": "bYV_6v33a0gz"
      },
      "outputs": [],
      "source": [
        "model = Model(input_layer, [x, x1, x2], name='inception_v1')"
      ]
    },
    {
      "cell_type": "code",
      "execution_count": 15,
      "metadata": {
        "colab": {
          "base_uri": "https://localhost:8080/"
        },
        "id": "BkobXtjua0g0",
        "outputId": "d2f2a000-8d0b-47e2-a354-968e5576777b"
      },
      "outputs": [
        {
          "name": "stdout",
          "output_type": "stream",
          "text": [
            "Model: \"inception_v1\"\n",
            "__________________________________________________________________________________________________\n",
            "Layer (type)                    Output Shape         Param #     Connected to                     \n",
            "==================================================================================================\n",
            "input_2 (InputLayer)            [(None, 331, 331, 1) 0                                            \n",
            "__________________________________________________________________________________________________\n",
            "conv_1_7x7/2 (Conv2D)           (None, 163, 163, 64) 3200        input_2[0][0]                    \n",
            "__________________________________________________________________________________________________\n",
            "max_pool_1_3x3/2 (MaxPooling2D) (None, 81, 81, 64)   0           conv_1_7x7/2[0][0]               \n",
            "__________________________________________________________________________________________________\n",
            "conv_2a_3x3/1 (Conv2D)          (None, 81, 81, 64)   4160        max_pool_1_3x3/2[0][0]           \n",
            "__________________________________________________________________________________________________\n",
            "conv_2b_3x3/1 (Conv2D)          (None, 79, 79, 192)  110784      conv_2a_3x3/1[0][0]              \n",
            "__________________________________________________________________________________________________\n",
            "max_pool_2_3x3/2 (MaxPooling2D) (None, 39, 39, 192)  0           conv_2b_3x3/1[0][0]              \n",
            "__________________________________________________________________________________________________\n",
            "conv2d_1 (Conv2D)               (None, 39, 39, 96)   18528       max_pool_2_3x3/2[0][0]           \n",
            "__________________________________________________________________________________________________\n",
            "conv2d_3 (Conv2D)               (None, 39, 39, 16)   3088        max_pool_2_3x3/2[0][0]           \n",
            "__________________________________________________________________________________________________\n",
            "max_pooling2d (MaxPooling2D)    (None, 39, 39, 192)  0           max_pool_2_3x3/2[0][0]           \n",
            "__________________________________________________________________________________________________\n",
            "conv2d (Conv2D)                 (None, 39, 39, 64)   12352       max_pool_2_3x3/2[0][0]           \n",
            "__________________________________________________________________________________________________\n",
            "conv2d_2 (Conv2D)               (None, 39, 39, 128)  110720      conv2d_1[0][0]                   \n",
            "__________________________________________________________________________________________________\n",
            "conv2d_4 (Conv2D)               (None, 39, 39, 32)   12832       conv2d_3[0][0]                   \n",
            "__________________________________________________________________________________________________\n",
            "conv2d_5 (Conv2D)               (None, 39, 39, 32)   6176        max_pooling2d[0][0]              \n",
            "__________________________________________________________________________________________________\n",
            "inception_3a (Concatenate)      (None, 39, 39, 256)  0           conv2d[0][0]                     \n",
            "                                                                 conv2d_2[0][0]                   \n",
            "                                                                 conv2d_4[0][0]                   \n",
            "                                                                 conv2d_5[0][0]                   \n",
            "__________________________________________________________________________________________________\n",
            "conv2d_7 (Conv2D)               (None, 39, 39, 128)  32896       inception_3a[0][0]               \n",
            "__________________________________________________________________________________________________\n",
            "conv2d_9 (Conv2D)               (None, 39, 39, 32)   8224        inception_3a[0][0]               \n",
            "__________________________________________________________________________________________________\n",
            "max_pooling2d_1 (MaxPooling2D)  (None, 39, 39, 256)  0           inception_3a[0][0]               \n",
            "__________________________________________________________________________________________________\n",
            "conv2d_6 (Conv2D)               (None, 39, 39, 128)  32896       inception_3a[0][0]               \n",
            "__________________________________________________________________________________________________\n",
            "conv2d_8 (Conv2D)               (None, 39, 39, 192)  221376      conv2d_7[0][0]                   \n",
            "__________________________________________________________________________________________________\n",
            "conv2d_10 (Conv2D)              (None, 39, 39, 96)   76896       conv2d_9[0][0]                   \n",
            "__________________________________________________________________________________________________\n",
            "conv2d_11 (Conv2D)              (None, 39, 39, 64)   16448       max_pooling2d_1[0][0]            \n",
            "__________________________________________________________________________________________________\n",
            "inception_3b (Concatenate)      (None, 39, 39, 480)  0           conv2d_6[0][0]                   \n",
            "                                                                 conv2d_8[0][0]                   \n",
            "                                                                 conv2d_10[0][0]                  \n",
            "                                                                 conv2d_11[0][0]                  \n",
            "__________________________________________________________________________________________________\n",
            "max_pool_3_3x3/2 (MaxPooling2D) (None, 19, 19, 480)  0           inception_3b[0][0]               \n",
            "__________________________________________________________________________________________________\n",
            "conv2d_13 (Conv2D)              (None, 19, 19, 96)   46176       max_pool_3_3x3/2[0][0]           \n",
            "__________________________________________________________________________________________________\n",
            "conv2d_15 (Conv2D)              (None, 19, 19, 16)   7696        max_pool_3_3x3/2[0][0]           \n",
            "__________________________________________________________________________________________________\n",
            "max_pooling2d_2 (MaxPooling2D)  (None, 19, 19, 480)  0           max_pool_3_3x3/2[0][0]           \n",
            "__________________________________________________________________________________________________\n",
            "conv2d_12 (Conv2D)              (None, 19, 19, 192)  92352       max_pool_3_3x3/2[0][0]           \n",
            "__________________________________________________________________________________________________\n",
            "conv2d_14 (Conv2D)              (None, 19, 19, 208)  179920      conv2d_13[0][0]                  \n",
            "__________________________________________________________________________________________________\n",
            "conv2d_16 (Conv2D)              (None, 19, 19, 48)   19248       conv2d_15[0][0]                  \n",
            "__________________________________________________________________________________________________\n",
            "conv2d_17 (Conv2D)              (None, 19, 19, 64)   30784       max_pooling2d_2[0][0]            \n",
            "__________________________________________________________________________________________________\n",
            "inception_4a (Concatenate)      (None, 19, 19, 512)  0           conv2d_12[0][0]                  \n",
            "                                                                 conv2d_14[0][0]                  \n",
            "                                                                 conv2d_16[0][0]                  \n",
            "                                                                 conv2d_17[0][0]                  \n",
            "__________________________________________________________________________________________________\n",
            "conv2d_20 (Conv2D)              (None, 19, 19, 112)  57456       inception_4a[0][0]               \n",
            "__________________________________________________________________________________________________\n",
            "conv2d_22 (Conv2D)              (None, 19, 19, 24)   12312       inception_4a[0][0]               \n",
            "__________________________________________________________________________________________________\n",
            "max_pooling2d_3 (MaxPooling2D)  (None, 19, 19, 512)  0           inception_4a[0][0]               \n",
            "__________________________________________________________________________________________________\n",
            "conv2d_19 (Conv2D)              (None, 19, 19, 160)  82080       inception_4a[0][0]               \n",
            "__________________________________________________________________________________________________\n",
            "conv2d_21 (Conv2D)              (None, 19, 19, 224)  226016      conv2d_20[0][0]                  \n",
            "__________________________________________________________________________________________________\n",
            "conv2d_23 (Conv2D)              (None, 19, 19, 64)   38464       conv2d_22[0][0]                  \n",
            "__________________________________________________________________________________________________\n",
            "conv2d_24 (Conv2D)              (None, 19, 19, 64)   32832       max_pooling2d_3[0][0]            \n",
            "__________________________________________________________________________________________________\n",
            "inception_4b (Concatenate)      (None, 19, 19, 512)  0           conv2d_19[0][0]                  \n",
            "                                                                 conv2d_21[0][0]                  \n",
            "                                                                 conv2d_23[0][0]                  \n",
            "                                                                 conv2d_24[0][0]                  \n",
            "__________________________________________________________________________________________________\n",
            "conv2d_26 (Conv2D)              (None, 19, 19, 128)  65664       inception_4b[0][0]               \n",
            "__________________________________________________________________________________________________\n",
            "conv2d_28 (Conv2D)              (None, 19, 19, 24)   12312       inception_4b[0][0]               \n",
            "__________________________________________________________________________________________________\n",
            "max_pooling2d_4 (MaxPooling2D)  (None, 19, 19, 512)  0           inception_4b[0][0]               \n",
            "__________________________________________________________________________________________________\n",
            "conv2d_25 (Conv2D)              (None, 19, 19, 128)  65664       inception_4b[0][0]               \n",
            "__________________________________________________________________________________________________\n",
            "conv2d_27 (Conv2D)              (None, 19, 19, 256)  295168      conv2d_26[0][0]                  \n",
            "__________________________________________________________________________________________________\n",
            "conv2d_29 (Conv2D)              (None, 19, 19, 64)   38464       conv2d_28[0][0]                  \n",
            "__________________________________________________________________________________________________\n",
            "conv2d_30 (Conv2D)              (None, 19, 19, 64)   32832       max_pooling2d_4[0][0]            \n",
            "__________________________________________________________________________________________________\n",
            "inception_4c (Concatenate)      (None, 19, 19, 512)  0           conv2d_25[0][0]                  \n",
            "                                                                 conv2d_27[0][0]                  \n",
            "                                                                 conv2d_29[0][0]                  \n",
            "                                                                 conv2d_30[0][0]                  \n",
            "__________________________________________________________________________________________________\n",
            "conv2d_32 (Conv2D)              (None, 19, 19, 144)  73872       inception_4c[0][0]               \n",
            "__________________________________________________________________________________________________\n",
            "conv2d_34 (Conv2D)              (None, 19, 19, 32)   16416       inception_4c[0][0]               \n",
            "__________________________________________________________________________________________________\n",
            "max_pooling2d_5 (MaxPooling2D)  (None, 19, 19, 512)  0           inception_4c[0][0]               \n",
            "__________________________________________________________________________________________________\n",
            "conv2d_31 (Conv2D)              (None, 19, 19, 112)  57456       inception_4c[0][0]               \n",
            "__________________________________________________________________________________________________\n",
            "conv2d_33 (Conv2D)              (None, 19, 19, 288)  373536      conv2d_32[0][0]                  \n",
            "__________________________________________________________________________________________________\n",
            "conv2d_35 (Conv2D)              (None, 19, 19, 64)   51264       conv2d_34[0][0]                  \n",
            "__________________________________________________________________________________________________\n",
            "conv2d_36 (Conv2D)              (None, 19, 19, 64)   32832       max_pooling2d_5[0][0]            \n",
            "__________________________________________________________________________________________________\n",
            "inception_4d (Concatenate)      (None, 19, 19, 528)  0           conv2d_31[0][0]                  \n",
            "                                                                 conv2d_33[0][0]                  \n",
            "                                                                 conv2d_35[0][0]                  \n",
            "                                                                 conv2d_36[0][0]                  \n",
            "__________________________________________________________________________________________________\n",
            "conv2d_39 (Conv2D)              (None, 19, 19, 160)  84640       inception_4d[0][0]               \n",
            "__________________________________________________________________________________________________\n",
            "conv2d_41 (Conv2D)              (None, 19, 19, 32)   16928       inception_4d[0][0]               \n",
            "__________________________________________________________________________________________________\n",
            "max_pooling2d_6 (MaxPooling2D)  (None, 19, 19, 528)  0           inception_4d[0][0]               \n",
            "__________________________________________________________________________________________________\n",
            "conv2d_38 (Conv2D)              (None, 19, 19, 256)  135424      inception_4d[0][0]               \n",
            "__________________________________________________________________________________________________\n",
            "conv2d_40 (Conv2D)              (None, 19, 19, 320)  461120      conv2d_39[0][0]                  \n",
            "__________________________________________________________________________________________________\n",
            "conv2d_42 (Conv2D)              (None, 19, 19, 128)  102528      conv2d_41[0][0]                  \n",
            "__________________________________________________________________________________________________\n",
            "conv2d_43 (Conv2D)              (None, 19, 19, 128)  67712       max_pooling2d_6[0][0]            \n",
            "__________________________________________________________________________________________________\n",
            "inception_4e (Concatenate)      (None, 19, 19, 832)  0           conv2d_38[0][0]                  \n",
            "                                                                 conv2d_40[0][0]                  \n",
            "                                                                 conv2d_42[0][0]                  \n",
            "                                                                 conv2d_43[0][0]                  \n",
            "__________________________________________________________________________________________________\n",
            "max_pool_4_3x3/2 (MaxPooling2D) (None, 9, 9, 832)    0           inception_4e[0][0]               \n",
            "__________________________________________________________________________________________________\n",
            "conv2d_45 (Conv2D)              (None, 9, 9, 160)    133280      max_pool_4_3x3/2[0][0]           \n",
            "__________________________________________________________________________________________________\n",
            "conv2d_47 (Conv2D)              (None, 9, 9, 32)     26656       max_pool_4_3x3/2[0][0]           \n",
            "__________________________________________________________________________________________________\n",
            "max_pooling2d_7 (MaxPooling2D)  (None, 9, 9, 832)    0           max_pool_4_3x3/2[0][0]           \n",
            "__________________________________________________________________________________________________\n",
            "conv2d_44 (Conv2D)              (None, 9, 9, 256)    213248      max_pool_4_3x3/2[0][0]           \n",
            "__________________________________________________________________________________________________\n",
            "conv2d_46 (Conv2D)              (None, 9, 9, 320)    461120      conv2d_45[0][0]                  \n",
            "__________________________________________________________________________________________________\n",
            "conv2d_48 (Conv2D)              (None, 9, 9, 128)    102528      conv2d_47[0][0]                  \n",
            "__________________________________________________________________________________________________\n",
            "conv2d_49 (Conv2D)              (None, 9, 9, 128)    106624      max_pooling2d_7[0][0]            \n",
            "__________________________________________________________________________________________________\n",
            "inception_5a (Concatenate)      (None, 9, 9, 832)    0           conv2d_44[0][0]                  \n",
            "                                                                 conv2d_46[0][0]                  \n",
            "                                                                 conv2d_48[0][0]                  \n",
            "                                                                 conv2d_49[0][0]                  \n",
            "__________________________________________________________________________________________________\n",
            "conv2d_51 (Conv2D)              (None, 9, 9, 192)    159936      inception_5a[0][0]               \n",
            "__________________________________________________________________________________________________\n",
            "conv2d_53 (Conv2D)              (None, 9, 9, 48)     39984       inception_5a[0][0]               \n",
            "__________________________________________________________________________________________________\n",
            "max_pooling2d_8 (MaxPooling2D)  (None, 9, 9, 832)    0           inception_5a[0][0]               \n",
            "__________________________________________________________________________________________________\n",
            "average_pooling2d (AveragePooli (None, 5, 5, 512)    0           inception_4a[0][0]               \n",
            "__________________________________________________________________________________________________\n",
            "average_pooling2d_1 (AveragePoo (None, 5, 5, 528)    0           inception_4d[0][0]               \n",
            "__________________________________________________________________________________________________\n",
            "conv2d_50 (Conv2D)              (None, 9, 9, 384)    319872      inception_5a[0][0]               \n",
            "__________________________________________________________________________________________________\n",
            "conv2d_52 (Conv2D)              (None, 9, 9, 384)    663936      conv2d_51[0][0]                  \n",
            "__________________________________________________________________________________________________\n",
            "conv2d_54 (Conv2D)              (None, 9, 9, 128)    153728      conv2d_53[0][0]                  \n",
            "__________________________________________________________________________________________________\n",
            "conv2d_55 (Conv2D)              (None, 9, 9, 128)    106624      max_pooling2d_8[0][0]            \n",
            "__________________________________________________________________________________________________\n",
            "conv2d_18 (Conv2D)              (None, 5, 5, 128)    65664       average_pooling2d[0][0]          \n",
            "__________________________________________________________________________________________________\n",
            "conv2d_37 (Conv2D)              (None, 5, 5, 128)    67712       average_pooling2d_1[0][0]        \n",
            "__________________________________________________________________________________________________\n",
            "inception_5b (Concatenate)      (None, 9, 9, 1024)   0           conv2d_50[0][0]                  \n",
            "                                                                 conv2d_52[0][0]                  \n",
            "                                                                 conv2d_54[0][0]                  \n",
            "                                                                 conv2d_55[0][0]                  \n",
            "__________________________________________________________________________________________________\n",
            "flatten (Flatten)               (None, 3200)         0           conv2d_18[0][0]                  \n",
            "__________________________________________________________________________________________________\n",
            "flatten_1 (Flatten)             (None, 3200)         0           conv2d_37[0][0]                  \n",
            "__________________________________________________________________________________________________\n",
            "avg_pool_5_3x3/1 (GlobalAverage (None, 1024)         0           inception_5b[0][0]               \n",
            "__________________________________________________________________________________________________\n",
            "dense (Dense)                   (None, 1024)         3277824     flatten[0][0]                    \n",
            "__________________________________________________________________________________________________\n",
            "dense_1 (Dense)                 (None, 1024)         3277824     flatten_1[0][0]                  \n",
            "__________________________________________________________________________________________________\n",
            "dropout_2 (Dropout)             (None, 1024)         0           avg_pool_5_3x3/1[0][0]           \n",
            "__________________________________________________________________________________________________\n",
            "dropout (Dropout)               (None, 1024)         0           dense[0][0]                      \n",
            "__________________________________________________________________________________________________\n",
            "dropout_1 (Dropout)             (None, 1024)         0           dense_1[0][0]                    \n",
            "__________________________________________________________________________________________________\n",
            "output (Dense)                  (None, 3)            3075        dropout_2[0][0]                  \n",
            "__________________________________________________________________________________________________\n",
            "auxilliary_output_1 (Dense)     (None, 3)            3075        dropout[0][0]                    \n",
            "__________________________________________________________________________________________________\n",
            "auxilliary_output_2 (Dense)     (None, 3)            3075        dropout_1[0][0]                  \n",
            "==================================================================================================\n",
            "Total params: 12,665,529\n",
            "Trainable params: 12,665,529\n",
            "Non-trainable params: 0\n",
            "__________________________________________________________________________________________________\n"
          ]
        }
      ],
      "source": [
        "model.summary()"
      ]
    },
    {
      "cell_type": "code",
      "execution_count": 16,
      "metadata": {
        "id": "X_j9V52-a0g1"
      },
      "outputs": [],
      "source": [
        "epochs = 25\n",
        "initial_lrate = 0.01\n",
        "\n",
        "def decay(epoch, steps=100):\n",
        "    initial_lrate = 0.01\n",
        "    drop = 0.96\n",
        "    epochs_drop = 8\n",
        "    lrate = initial_lrate * math.pow(drop, math.floor((1+epoch)/epochs_drop))\n",
        "    return lrate\n",
        "\n",
        "sgd = SGD(learning_rate=initial_lrate, momentum=0.9, nesterov=False)\n",
        "\n",
        "lr_sc = LearningRateScheduler(decay, verbose=1)\n",
        "\n",
        "model.compile(loss=['categorical_crossentropy', 'categorical_crossentropy', 'categorical_crossentropy'], loss_weights=[1, 0.3, 0.3], optimizer=sgd, metrics=['accuracy'])"
      ]
    },
    {
      "cell_type": "code",
      "execution_count": 17,
      "metadata": {
        "colab": {
          "base_uri": "https://localhost:8080/"
        },
        "id": "P-5Cdf-oa0g2",
        "outputId": "3c701cc1-d745-4b3c-ca48-cbaf90d8f860"
      },
      "outputs": [
        {
          "name": "stdout",
          "output_type": "stream",
          "text": [
            "Epoch 1/25\n",
            "321/321 [==============================] - 971s 3s/step - loss: 1.7216 - output_loss: 1.0760 - auxilliary_output_1_loss: 1.0747 - auxilliary_output_2_loss: 1.0771 - output_accuracy: 0.3915 - auxilliary_output_1_accuracy: 0.3958 - auxilliary_output_2_accuracy: 0.3823 - val_loss: 1.7177 - val_output_loss: 1.0740 - val_auxilliary_output_1_loss: 1.0725 - val_auxilliary_output_2_loss: 1.0730 - val_output_accuracy: 0.3858 - val_auxilliary_output_1_accuracy: 0.3858 - val_auxilliary_output_2_accuracy: 0.3858\n",
            "Epoch 2/25\n",
            "321/321 [==============================] - 1010s 3s/step - loss: 1.7154 - output_loss: 1.0731 - auxilliary_output_1_loss: 1.0683 - auxilliary_output_2_loss: 1.0725 - output_accuracy: 0.4015 - auxilliary_output_1_accuracy: 0.4103 - auxilliary_output_2_accuracy: 0.4007 - val_loss: 1.7002 - val_output_loss: 1.0652 - val_auxilliary_output_1_loss: 1.0541 - val_auxilliary_output_2_loss: 1.0628 - val_output_accuracy: 0.4859 - val_auxilliary_output_1_accuracy: 0.4100 - val_auxilliary_output_2_accuracy: 0.4351\n",
            "Epoch 3/25\n",
            "321/321 [==============================] - 1011s 3s/step - loss: 1.7130 - output_loss: 1.0715 - auxilliary_output_1_loss: 1.0680 - auxilliary_output_2_loss: 1.0704 - output_accuracy: 0.4075 - auxilliary_output_1_accuracy: 0.3991 - auxilliary_output_2_accuracy: 0.4029 - val_loss: 1.7174 - val_output_loss: 1.0730 - val_auxilliary_output_1_loss: 1.0742 - val_auxilliary_output_2_loss: 1.0738 - val_output_accuracy: 0.3858 - val_auxilliary_output_1_accuracy: 0.3858 - val_auxilliary_output_2_accuracy: 0.3858\n",
            "Epoch 4/25\n",
            "321/321 [==============================] - 1002s 3s/step - loss: 1.7192 - output_loss: 1.0746 - auxilliary_output_1_loss: 1.0746 - auxilliary_output_2_loss: 1.0740 - output_accuracy: 0.3884 - auxilliary_output_1_accuracy: 0.3829 - auxilliary_output_2_accuracy: 0.3773 - val_loss: 1.7165 - val_output_loss: 1.0729 - val_auxilliary_output_1_loss: 1.0725 - val_auxilliary_output_2_loss: 1.0726 - val_output_accuracy: 0.3858 - val_auxilliary_output_1_accuracy: 0.3858 - val_auxilliary_output_2_accuracy: 0.3858\n",
            "Epoch 5/25\n",
            "321/321 [==============================] - 1002s 3s/step - loss: 1.7189 - output_loss: 1.0748 - auxilliary_output_1_loss: 1.0730 - auxilliary_output_2_loss: 1.0741 - output_accuracy: 0.3810 - auxilliary_output_1_accuracy: 0.3831 - auxilliary_output_2_accuracy: 0.3730 - val_loss: 1.7166 - val_output_loss: 1.0732 - val_auxilliary_output_1_loss: 1.0724 - val_auxilliary_output_2_loss: 1.0724 - val_output_accuracy: 0.3858 - val_auxilliary_output_1_accuracy: 0.3858 - val_auxilliary_output_2_accuracy: 0.3858\n",
            "Epoch 6/25\n",
            "321/321 [==============================] - 1004s 3s/step - loss: 1.7178 - output_loss: 1.0740 - auxilliary_output_1_loss: 1.0728 - auxilliary_output_2_loss: 1.0732 - output_accuracy: 0.3751 - auxilliary_output_1_accuracy: 0.3790 - auxilliary_output_2_accuracy: 0.3810 - val_loss: 1.7160 - val_output_loss: 1.0727 - val_auxilliary_output_1_loss: 1.0722 - val_auxilliary_output_2_loss: 1.0722 - val_output_accuracy: 0.3858 - val_auxilliary_output_1_accuracy: 0.3858 - val_auxilliary_output_2_accuracy: 0.3858\n",
            "Epoch 7/25\n",
            "321/321 [==============================] - 1003s 3s/step - loss: 1.7172 - output_loss: 1.0733 - auxilliary_output_1_loss: 1.0731 - auxilliary_output_2_loss: 1.0732 - output_accuracy: 0.3954 - auxilliary_output_1_accuracy: 0.3954 - auxilliary_output_2_accuracy: 0.3907 - val_loss: 1.7188 - val_output_loss: 1.0749 - val_auxilliary_output_1_loss: 1.0732 - val_auxilliary_output_2_loss: 1.0730 - val_output_accuracy: 0.3858 - val_auxilliary_output_1_accuracy: 0.3858 - val_auxilliary_output_2_accuracy: 0.3858\n",
            "Epoch 8/25\n",
            "321/321 [==============================] - 1002s 3s/step - loss: 1.7183 - output_loss: 1.0744 - auxilliary_output_1_loss: 1.0733 - auxilliary_output_2_loss: 1.0730 - output_accuracy: 0.3786 - auxilliary_output_1_accuracy: 0.3841 - auxilliary_output_2_accuracy: 0.3894 - val_loss: 1.7158 - val_output_loss: 1.0724 - val_auxilliary_output_1_loss: 1.0723 - val_auxilliary_output_2_loss: 1.0724 - val_output_accuracy: 0.3858 - val_auxilliary_output_1_accuracy: 0.3858 - val_auxilliary_output_2_accuracy: 0.3858\n",
            "Epoch 9/25\n",
            "321/321 [==============================] - 1002s 3s/step - loss: 1.7172 - output_loss: 1.0734 - auxilliary_output_1_loss: 1.0729 - auxilliary_output_2_loss: 1.0731 - output_accuracy: 0.3900 - auxilliary_output_1_accuracy: 0.3835 - auxilliary_output_2_accuracy: 0.3833 - val_loss: 1.7172 - val_output_loss: 1.0738 - val_auxilliary_output_1_loss: 1.0724 - val_auxilliary_output_2_loss: 1.0724 - val_output_accuracy: 0.3858 - val_auxilliary_output_1_accuracy: 0.3858 - val_auxilliary_output_2_accuracy: 0.3858\n",
            "Epoch 10/25\n",
            "321/321 [==============================] - 905s 3s/step - loss: 1.7161 - output_loss: 1.0727 - auxilliary_output_1_loss: 1.0721 - auxilliary_output_2_loss: 1.0725 - output_accuracy: 0.3995 - auxilliary_output_1_accuracy: 0.3946 - auxilliary_output_2_accuracy: 0.3964 - val_loss: 1.7168 - val_output_loss: 1.0730 - val_auxilliary_output_1_loss: 1.0730 - val_auxilliary_output_2_loss: 1.0730 - val_output_accuracy: 0.3858 - val_auxilliary_output_1_accuracy: 0.3858 - val_auxilliary_output_2_accuracy: 0.3858\n",
            "Epoch 11/25\n",
            "321/321 [==============================] - 834s 3s/step - loss: 1.7176 - output_loss: 1.0737 - auxilliary_output_1_loss: 1.0729 - auxilliary_output_2_loss: 1.0734 - output_accuracy: 0.3878 - auxilliary_output_1_accuracy: 0.3849 - auxilliary_output_2_accuracy: 0.3841 - val_loss: 1.7173 - val_output_loss: 1.0739 - val_auxilliary_output_1_loss: 1.0724 - val_auxilliary_output_2_loss: 1.0723 - val_output_accuracy: 0.3858 - val_auxilliary_output_1_accuracy: 0.3858 - val_auxilliary_output_2_accuracy: 0.3858\n",
            "Epoch 12/25\n",
            "321/321 [==============================] - 834s 3s/step - loss: 1.7174 - output_loss: 1.0734 - auxilliary_output_1_loss: 1.0734 - auxilliary_output_2_loss: 1.0734 - output_accuracy: 0.3890 - auxilliary_output_1_accuracy: 0.3861 - auxilliary_output_2_accuracy: 0.3837 - val_loss: 1.7160 - val_output_loss: 1.0726 - val_auxilliary_output_1_loss: 1.0723 - val_auxilliary_output_2_loss: 1.0723 - val_output_accuracy: 0.3858 - val_auxilliary_output_1_accuracy: 0.3858 - val_auxilliary_output_2_accuracy: 0.3858\n",
            "Epoch 13/25\n",
            "321/321 [==============================] - 845s 3s/step - loss: 1.7182 - output_loss: 1.0742 - auxilliary_output_1_loss: 1.0734 - auxilliary_output_2_loss: 1.0734 - output_accuracy: 0.3820 - auxilliary_output_1_accuracy: 0.3839 - auxilliary_output_2_accuracy: 0.3786 - val_loss: 1.7156 - val_output_loss: 1.0722 - val_auxilliary_output_1_loss: 1.0723 - val_auxilliary_output_2_loss: 1.0722 - val_output_accuracy: 0.3858 - val_auxilliary_output_1_accuracy: 0.3858 - val_auxilliary_output_2_accuracy: 0.3858\n",
            "Epoch 14/25\n",
            "321/321 [==============================] - 886s 3s/step - loss: 1.7183 - output_loss: 1.0741 - auxilliary_output_1_loss: 1.0739 - auxilliary_output_2_loss: 1.0734 - output_accuracy: 0.3904 - auxilliary_output_1_accuracy: 0.3728 - auxilliary_output_2_accuracy: 0.3728 - val_loss: 1.7165 - val_output_loss: 1.0731 - val_auxilliary_output_1_loss: 1.0722 - val_auxilliary_output_2_loss: 1.0722 - val_output_accuracy: 0.3858 - val_auxilliary_output_1_accuracy: 0.3858 - val_auxilliary_output_2_accuracy: 0.3858\n",
            "Epoch 15/25\n",
            "321/321 [==============================] - 833s 3s/step - loss: 1.7182 - output_loss: 1.0743 - auxilliary_output_1_loss: 1.0731 - auxilliary_output_2_loss: 1.0734 - output_accuracy: 0.3712 - auxilliary_output_1_accuracy: 0.3849 - auxilliary_output_2_accuracy: 0.3796 - val_loss: 1.7164 - val_output_loss: 1.0728 - val_auxilliary_output_1_loss: 1.0726 - val_auxilliary_output_2_loss: 1.0726 - val_output_accuracy: 0.3858 - val_auxilliary_output_1_accuracy: 0.3858 - val_auxilliary_output_2_accuracy: 0.3858\n",
            "Epoch 16/25\n",
            "321/321 [==============================] - 831s 3s/step - loss: 1.7171 - output_loss: 1.0733 - auxilliary_output_1_loss: 1.0731 - auxilliary_output_2_loss: 1.0728 - output_accuracy: 0.3870 - auxilliary_output_1_accuracy: 0.3741 - auxilliary_output_2_accuracy: 0.3863 - val_loss: 1.7176 - val_output_loss: 1.0739 - val_auxilliary_output_1_loss: 1.0729 - val_auxilliary_output_2_loss: 1.0727 - val_output_accuracy: 0.3858 - val_auxilliary_output_1_accuracy: 0.3858 - val_auxilliary_output_2_accuracy: 0.3858\n",
            "Epoch 17/25\n",
            "321/321 [==============================] - 831s 3s/step - loss: 1.7176 - output_loss: 1.0737 - auxilliary_output_1_loss: 1.0733 - auxilliary_output_2_loss: 1.0732 - output_accuracy: 0.3833 - auxilliary_output_1_accuracy: 0.3843 - auxilliary_output_2_accuracy: 0.3864 - val_loss: 1.7159 - val_output_loss: 1.0725 - val_auxilliary_output_1_loss: 1.0723 - val_auxilliary_output_2_loss: 1.0723 - val_output_accuracy: 0.3858 - val_auxilliary_output_1_accuracy: 0.3858 - val_auxilliary_output_2_accuracy: 0.3858\n",
            "Epoch 18/25\n",
            "321/321 [==============================] - 835s 3s/step - loss: 1.7176 - output_loss: 1.0737 - auxilliary_output_1_loss: 1.0732 - auxilliary_output_2_loss: 1.0732 - output_accuracy: 0.3833 - auxilliary_output_1_accuracy: 0.3818 - auxilliary_output_2_accuracy: 0.3771 - val_loss: 1.7164 - val_output_loss: 1.0730 - val_auxilliary_output_1_loss: 1.0722 - val_auxilliary_output_2_loss: 1.0722 - val_output_accuracy: 0.3858 - val_auxilliary_output_1_accuracy: 0.3858 - val_auxilliary_output_2_accuracy: 0.3858\n",
            "Epoch 19/25\n",
            "321/321 [==============================] - 831s 3s/step - loss: 1.7178 - output_loss: 1.0740 - auxilliary_output_1_loss: 1.0731 - auxilliary_output_2_loss: 1.0729 - output_accuracy: 0.3781 - auxilliary_output_1_accuracy: 0.3861 - auxilliary_output_2_accuracy: 0.3839 - val_loss: 1.7158 - val_output_loss: 1.0725 - val_auxilliary_output_1_loss: 1.0723 - val_auxilliary_output_2_loss: 1.0723 - val_output_accuracy: 0.3858 - val_auxilliary_output_1_accuracy: 0.3858 - val_auxilliary_output_2_accuracy: 0.3858\n",
            "Epoch 20/25\n",
            "321/321 [==============================] - 832s 3s/step - loss: 1.7174 - output_loss: 1.0735 - auxilliary_output_1_loss: 1.0735 - auxilliary_output_2_loss: 1.0728 - output_accuracy: 0.3859 - auxilliary_output_1_accuracy: 0.3775 - auxilliary_output_2_accuracy: 0.3876 - val_loss: 1.7186 - val_output_loss: 1.0751 - val_auxilliary_output_1_loss: 1.0726 - val_auxilliary_output_2_loss: 1.0726 - val_output_accuracy: 0.3858 - val_auxilliary_output_1_accuracy: 0.3858 - val_auxilliary_output_2_accuracy: 0.3858\n",
            "Epoch 21/25\n",
            "321/321 [==============================] - 831s 3s/step - loss: 1.7172 - output_loss: 1.0734 - auxilliary_output_1_loss: 1.0725 - auxilliary_output_2_loss: 1.0732 - output_accuracy: 0.3816 - auxilliary_output_1_accuracy: 0.3905 - auxilliary_output_2_accuracy: 0.3841 - val_loss: 1.7163 - val_output_loss: 1.0729 - val_auxilliary_output_1_loss: 1.0723 - val_auxilliary_output_2_loss: 1.0723 - val_output_accuracy: 0.3858 - val_auxilliary_output_1_accuracy: 0.3858 - val_auxilliary_output_2_accuracy: 0.3858\n",
            "Epoch 22/25\n",
            "321/321 [==============================] - 832s 3s/step - loss: 1.7170 - output_loss: 1.0733 - auxilliary_output_1_loss: 1.0729 - auxilliary_output_2_loss: 1.0727 - output_accuracy: 0.3864 - auxilliary_output_1_accuracy: 0.3900 - auxilliary_output_2_accuracy: 0.3880 - val_loss: 1.7179 - val_output_loss: 1.0740 - val_auxilliary_output_1_loss: 1.0731 - val_auxilliary_output_2_loss: 1.0730 - val_output_accuracy: 0.3858 - val_auxilliary_output_1_accuracy: 0.3858 - val_auxilliary_output_2_accuracy: 0.3858\n",
            "Epoch 23/25\n",
            "321/321 [==============================] - 833s 3s/step - loss: 1.7178 - output_loss: 1.0740 - auxilliary_output_1_loss: 1.0730 - auxilliary_output_2_loss: 1.0731 - output_accuracy: 0.3919 - auxilliary_output_1_accuracy: 0.3892 - auxilliary_output_2_accuracy: 0.3833 - val_loss: 1.7165 - val_output_loss: 1.0731 - val_auxilliary_output_1_loss: 1.0724 - val_auxilliary_output_2_loss: 1.0724 - val_output_accuracy: 0.3858 - val_auxilliary_output_1_accuracy: 0.3858 - val_auxilliary_output_2_accuracy: 0.3858\n",
            "Epoch 24/25\n",
            "321/321 [==============================] - 833s 3s/step - loss: 1.7175 - output_loss: 1.0737 - auxilliary_output_1_loss: 1.0733 - auxilliary_output_2_loss: 1.0729 - output_accuracy: 0.3868 - auxilliary_output_1_accuracy: 0.3859 - auxilliary_output_2_accuracy: 0.3827 - val_loss: 1.7162 - val_output_loss: 1.0727 - val_auxilliary_output_1_loss: 1.0724 - val_auxilliary_output_2_loss: 1.0724 - val_output_accuracy: 0.3858 - val_auxilliary_output_1_accuracy: 0.3858 - val_auxilliary_output_2_accuracy: 0.3858\n",
            "Epoch 25/25\n",
            "321/321 [==============================] - 834s 3s/step - loss: 1.7168 - output_loss: 1.0731 - auxilliary_output_1_loss: 1.0729 - auxilliary_output_2_loss: 1.0727 - output_accuracy: 0.3849 - auxilliary_output_1_accuracy: 0.3786 - auxilliary_output_2_accuracy: 0.3845 - val_loss: 1.7178 - val_output_loss: 1.0744 - val_auxilliary_output_1_loss: 1.0723 - val_auxilliary_output_2_loss: 1.0723 - val_output_accuracy: 0.3858 - val_auxilliary_output_1_accuracy: 0.3858 - val_auxilliary_output_2_accuracy: 0.3858\n"
          ]
        },
        {
          "data": {
            "text/plain": [
              "<tensorflow.python.keras.callbacks.History at 0x2ad6e0d4dc8>"
            ]
          },
          "execution_count": 17,
          "metadata": {},
          "output_type": "execute_result"
        }
      ],
      "source": [
        "graph = model.fit(train_generator, epochs=epochs, validation_data=validation_generator)\n",
        "\n",
        "graph"
      ]
    },
    {
      "cell_type": "code",
      "execution_count": 18,
      "metadata": {
        "colab": {
          "base_uri": "https://localhost:8080/"
        },
        "id": "Yg0TnMgVVcR2",
        "outputId": "75fbbe7f-5c35-430f-a76f-4974d01dd3b8"
      },
      "outputs": [
        {
          "name": "stdout",
          "output_type": "stream",
          "text": [
            "The highest accuracy achieved using GoogleNet with input: 331x331 is 48.591548204422\n"
          ]
        }
      ],
      "source": [
        "max_acc = max(graph.history['val_output_accuracy'])\n",
        "\n",
        "print('The highest accuracy achieved using GoogleNet with input: 331x331 is',max_acc*100)"
      ]
    }
  ],
  "metadata": {
    "accelerator": "GPU",
    "colab": {
      "name": "Harshil_GoogleNet_INPUT(224).ipynb",
      "provenance": []
    },
    "interpreter": {
      "hash": "2bbffc7375e247d4d3dcad3e2b88aceebc184229a06e733d3dfbf3f54ea44b79"
    },
    "kernelspec": {
      "display_name": "Python 3.6.13 64-bit ('gpu_env': conda)",
      "language": "python",
      "name": "python3"
    },
    "language_info": {
      "codemirror_mode": {
        "name": "ipython",
        "version": 3
      },
      "file_extension": ".py",
      "mimetype": "text/x-python",
      "name": "python",
      "nbconvert_exporter": "python",
      "pygments_lexer": "ipython3",
      "version": "3.7.10"
    },
    "orig_nbformat": 4
  },
  "nbformat": 4,
  "nbformat_minor": 0
}
